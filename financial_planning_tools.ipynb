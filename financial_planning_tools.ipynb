{
 "cells": [
  {
   "cell_type": "markdown",
   "metadata": {},
   "source": [
    "# Financial Planning with APIs and Simulations\n",
    "\n",
    "In this Challenge, you’ll create two financial analysis tools by using a single Jupyter notebook:\n",
    "\n",
    "Part 1: A financial planner for emergencies. The members will be able to use this tool to visualize their current savings. The members can then determine if they have enough reserves for an emergency fund.\n",
    "\n",
    "Part 2: A financial planner for retirement. This tool will forecast the performance of their retirement portfolio in 30 years. To do this, the tool will make an Alpaca API call via the Alpaca SDK to get historical price data for use in Monte Carlo simulations.\n",
    "\n",
    "You’ll use the information from the Monte Carlo simulation to answer questions about the portfolio in your Jupyter notebook.\n",
    "\n"
   ]
  },
  {
   "cell_type": "code",
   "execution_count": 266,
   "metadata": {},
   "outputs": [],
   "source": [
    "# Import the required libraries and dependencies\n",
    "import os\n",
    "import requests\n",
    "import json\n",
    "import pandas as pd\n",
    "from dotenv import load_dotenv\n",
    "import alpaca_trade_api as tradeapi\n",
    "from MCForecastTools import MCSimulation\n",
    "import warnings\n",
    "warnings.filterwarnings('ignore')\n",
    "\n",
    "%matplotlib inline"
   ]
  },
  {
   "cell_type": "code",
   "execution_count": 267,
   "metadata": {},
   "outputs": [
    {
     "data": {
      "text/plain": [
       "True"
      ]
     },
     "execution_count": 267,
     "metadata": {},
     "output_type": "execute_result"
    }
   ],
   "source": [
    "# Load the environment variables from the .env file\n",
    "#by calling the load_dotenv function\n",
    "load_dotenv()"
   ]
  },
  {
   "cell_type": "markdown",
   "metadata": {},
   "source": [
    "## Part 1: Create a Financial Planner for Emergencies"
   ]
  },
  {
   "cell_type": "markdown",
   "metadata": {},
   "source": [
    "### Evaluate the Cryptocurrency Wallet by Using the Requests Library\n",
    "\n",
    "In this section, you’ll determine the current value of a member’s cryptocurrency wallet. You’ll collect the current prices for the Bitcoin and Ethereum cryptocurrencies by using the Python Requests library. For the prototype, you’ll assume that the member holds the 1.2 Bitcoins (BTC) and 5.3 Ethereum coins (ETH). To do all this, complete the following steps:\n",
    "\n",
    "1. Create a variable named `monthly_income`, and set its value to `12000`.\n",
    "\n",
    "2. Use the Requests library to get the current price (in US dollars) of Bitcoin (BTC) and Ethereum (ETH) by using the API endpoints that the starter code supplies.\n",
    "\n",
    "3. Navigate the JSON response object to access the current price of each coin, and store each in a variable.\n",
    "\n",
    "    > **Hint** Note the specific identifier for each cryptocurrency in the API JSON response. The Bitcoin identifier is `1`, and the Ethereum identifier is `1027`.\n",
    "\n",
    "4. Calculate the value, in US dollars, of the current amount of each cryptocurrency and of the entire cryptocurrency wallet.\n",
    "\n"
   ]
  },
  {
   "cell_type": "code",
   "execution_count": 268,
   "metadata": {},
   "outputs": [],
   "source": [
    "# The current number of coins for each cryptocurrency asset held in the portfolio.\n",
    "btc_coins = 1.2\n",
    "eth_coins = 5.3"
   ]
  },
  {
   "cell_type": "markdown",
   "metadata": {
    "tags": []
   },
   "source": [
    "#### Step 1: Create a variable named `monthly_income`, and set its value to `12000`."
   ]
  },
  {
   "cell_type": "code",
   "execution_count": 269,
   "metadata": {},
   "outputs": [],
   "source": [
    "# The monthly amount for the member's household income\n",
    "monthly_income = 12000"
   ]
  },
  {
   "cell_type": "markdown",
   "metadata": {},
   "source": [
    "#### Review the endpoint URLs for the API calls to Free Crypto API in order to get the current pricing information for both BTC and ETH."
   ]
  },
  {
   "cell_type": "code",
   "execution_count": 270,
   "metadata": {},
   "outputs": [],
   "source": [
    "# The Free Crypto API Call endpoint URLs for the held cryptocurrency assets\n",
    "btc_url = \"https://api.alternative.me/v2/ticker/Bitcoin/?convert=USD\"\n",
    "eth_url = \"https://api.alternative.me/v2/ticker/Ethereum/?convert=USD\""
   ]
  },
  {
   "cell_type": "markdown",
   "metadata": {},
   "source": [
    "#### Step 2. Use the Requests library to get the current price (in US dollars) of Bitcoin (BTC) and Ethereum (ETH) by using the API endpoints that the starter code supplied."
   ]
  },
  {
   "cell_type": "code",
   "execution_count": 271,
   "metadata": {},
   "outputs": [
    {
     "name": "stdout",
     "output_type": "stream",
     "text": [
      "{\n",
      "    \"data\": {\n",
      "        \"1\": {\n",
      "            \"circulating_supply\": 19350993,\n",
      "            \"id\": 1,\n",
      "            \"last_updated\": 1681940690,\n",
      "            \"max_supply\": 21000000,\n",
      "            \"name\": \"Bitcoin\",\n",
      "            \"quotes\": {\n",
      "                \"USD\": {\n",
      "                    \"market_cap\": 562172027136,\n",
      "                    \"percent_change_1h\": -0.792235712699135,\n",
      "                    \"percent_change_24h\": -4.37371065654939,\n",
      "                    \"percent_change_7d\": -4.19181190839922,\n",
      "                    \"percentage_change_1h\": -0.792235712699135,\n",
      "                    \"percentage_change_24h\": -4.37371065654939,\n",
      "                    \"percentage_change_7d\": -4.19181190839922,\n",
      "                    \"price\": 28992.0,\n",
      "                    \"volume_24h\": 22516599886\n",
      "                }\n",
      "            },\n",
      "            \"rank\": 1,\n",
      "            \"symbol\": \"BTC\",\n",
      "            \"total_supply\": 19350993,\n",
      "            \"website_slug\": \"bitcoin\"\n",
      "        }\n",
      "    },\n",
      "    \"metadata\": {\n",
      "        \"error\": null,\n",
      "        \"num_cryptocurrencies\": 3119,\n",
      "        \"timestamp\": 1681940690\n",
      "    }\n",
      "}\n"
     ]
    }
   ],
   "source": [
    "# Using the Python requests library, make an API call to access the current price of BTC\n",
    "btc_response = requests.get(btc_url)\n",
    "\n",
    "# Use the json.dumps function to review the response data from the API call\n",
    "# Use the indent and sort_keys parameters to make the response object readable\n",
    "print(json.dumps(btc_data, indent=4, sort_keys=True))"
   ]
  },
  {
   "cell_type": "code",
   "execution_count": 272,
   "metadata": {},
   "outputs": [
    {
     "name": "stdout",
     "output_type": "stream",
     "text": [
      "{\n",
      "    \"data\": {\n",
      "        \"1027\": {\n",
      "            \"circulating_supply\": 119344051,\n",
      "            \"id\": 1027,\n",
      "            \"last_updated\": 1681940691,\n",
      "            \"max_supply\": 119344051,\n",
      "            \"name\": \"Ethereum\",\n",
      "            \"quotes\": {\n",
      "                \"USD\": {\n",
      "                    \"market_cap\": 234075773810,\n",
      "                    \"percent_change_1h\": -0.947378266150255,\n",
      "                    \"percent_change_24h\": -6.17218687744808,\n",
      "                    \"percent_change_7d\": 3.56126741740568,\n",
      "                    \"percentage_change_1h\": -0.947378266150255,\n",
      "                    \"percentage_change_24h\": -6.17218687744808,\n",
      "                    \"percentage_change_7d\": 3.56126741740568,\n",
      "                    \"price\": 1960.35,\n",
      "                    \"volume_24h\": 14930103626\n",
      "                }\n",
      "            },\n",
      "            \"rank\": 2,\n",
      "            \"symbol\": \"ETH\",\n",
      "            \"total_supply\": 119344051,\n",
      "            \"website_slug\": \"ethereum\"\n",
      "        }\n",
      "    },\n",
      "    \"metadata\": {\n",
      "        \"error\": null,\n",
      "        \"num_cryptocurrencies\": 3119,\n",
      "        \"timestamp\": 1681940691\n",
      "    }\n",
      "}\n"
     ]
    }
   ],
   "source": [
    "# Using the Python requests library, make an API call to access the current price ETH\n",
    "eth_response = requests.get(eth_url)\n",
    "\n",
    "# Use the json.dumps function to review the response data from the API call\n",
    "# Use the indent and sort_keys parameters to make the response object readable\n",
    "print(json.dumps(eth_data, indent=4, sort_keys=True))\n"
   ]
  },
  {
   "cell_type": "markdown",
   "metadata": {},
   "source": [
    "#### Step 3: Navigate the JSON response object to access the current price of each coin, and store each in a variable."
   ]
  },
  {
   "cell_type": "code",
   "execution_count": 273,
   "metadata": {},
   "outputs": [
    {
     "name": "stdout",
     "output_type": "stream",
     "text": [
      "Current Bitcoin price in USD $28319.0\n"
     ]
    }
   ],
   "source": [
    "# Navigate the BTC response object to access the current price of BTC\n",
    "btc_price = btc_response.json()['data']['1']['quotes']['USD']['price']\n",
    "\n",
    "\n",
    "# Print the current price of BTC\n",
    "print(f\"Current Bitcoin price in USD ${btc_price}\")\n",
    "\n"
   ]
  },
  {
   "cell_type": "code",
   "execution_count": 274,
   "metadata": {},
   "outputs": [
    {
     "name": "stdout",
     "output_type": "stream",
     "text": [
      "Current Ethereum price in USD $1946.7\n"
     ]
    }
   ],
   "source": [
    "# Navigate the BTC response object to access the current price of ETH\n",
    "eth_price = eth_response.json()['data']['1027']['quotes']['USD']['price']\n",
    "\n",
    "# Print the current price of ETH\n",
    "print(f\"Current Ethereum price in USD ${eth_price}\")"
   ]
  },
  {
   "cell_type": "markdown",
   "metadata": {},
   "source": [
    "### Step 4: Calculate the value, in US dollars, of the current amount of each cryptocurrency and of the entire cryptocurrency wallet."
   ]
  },
  {
   "cell_type": "code",
   "execution_count": 275,
   "metadata": {},
   "outputs": [
    {
     "name": "stdout",
     "output_type": "stream",
     "text": [
      "Current value of your holding in BTC $33982.799999999996,\n"
     ]
    }
   ],
   "source": [
    "# Compute the current value of the BTC holding \n",
    "btc_value = btc_coins * btc_price\n",
    "\n",
    "\n",
    "# Print current value of your holding in BTC\n",
    "print(f\"Current value of your holding in BTC ${btc_value},\")\n"
   ]
  },
  {
   "cell_type": "code",
   "execution_count": 276,
   "metadata": {},
   "outputs": [
    {
     "name": "stdout",
     "output_type": "stream",
     "text": [
      "Current value of your holding in BTC $150090.69999999998\n"
     ]
    }
   ],
   "source": [
    "# Compute the current value of the ETH holding \n",
    "eth_value = eth_coins * btc_price\n",
    "\n",
    "# Print current value of your holding in ETH\n",
    "print(f\"Current value of your holding in BTC ${eth_value}\")\n"
   ]
  },
  {
   "cell_type": "code",
   "execution_count": 277,
   "metadata": {},
   "outputs": [
    {
     "name": "stdout",
     "output_type": "stream",
     "text": [
      "The total value of your cryptocurrency wallet is $184073.50\n"
     ]
    }
   ],
   "source": [
    "# Compute the total value of the cryptocurrency wallet\n",
    "# Add the value of the BTC holding to the value of the ETH holding\n",
    "total_crypto_wallet = btc_value + eth_value\n",
    "\n",
    "\n",
    "# Print current cryptocurrency wallet balance\n",
    "print(f\"The total value of your cryptocurrency wallet is ${total_crypto_wallet:.2f}\")\n"
   ]
  },
  {
   "cell_type": "markdown",
   "metadata": {},
   "source": [
    "### Evaluate the Stock and Bond Holdings by Using the Alpaca SDK\n",
    "\n",
    "In this section, you’ll determine the current value of a member’s stock and bond holdings. You’ll make an API call to Alpaca via the Alpaca SDK to get the current closing prices of the SPDR S&P 500 ETF Trust (ticker: SPY) and of the iShares Core US Aggregate Bond ETF (ticker: AGG). For the prototype, assume that the member holds 110 shares of SPY, which represents the stock portion of their portfolio, and 200 shares of AGG, which represents the bond portion. To do all this, complete the following steps:\n",
    "\n",
    "1. In the `Starter_Code` folder, create an environment file (`.env`) to store the values of your Alpaca API key and Alpaca secret key.\n",
    "\n",
    "2. Set the variables for the Alpaca API and secret keys. Using the Alpaca SDK, create the Alpaca `tradeapi.REST` object. In this object, include the parameters for the Alpaca API key, the secret key, and the version number.\n",
    "\n",
    "3. Set the following parameters for the Alpaca API call:\n",
    "\n",
    "    - `tickers`: Use the tickers for the member’s stock and bond holdings.\n",
    "\n",
    "    - `timeframe`: Use a time frame of one day.\n",
    "\n",
    "    - `start_date` and `end_date`: Use the same date for these parameters, and format them with the date of the previous weekday (or `2020-08-07`). This is because you want the one closing price for the most-recent trading day.\n",
    "\n",
    "4. Get the current closing prices for `SPY` and `AGG` by using the Alpaca `get_bars` function. Format the response as a Pandas DataFrame by including the `df` property at the end of the `get_bars` function.\n",
    "\n",
    "5. Navigating the Alpaca response DataFrame, select the `SPY` and `AGG` closing prices, and store them as variables.\n",
    "\n",
    "6. Calculate the value, in US dollars, of the current amount of shares in each of the stock and bond portions of the portfolio, and print the results.\n"
   ]
  },
  {
   "cell_type": "markdown",
   "metadata": {},
   "source": [
    "#### Review the total number of shares held in both (SPY) and (AGG)."
   ]
  },
  {
   "cell_type": "code",
   "execution_count": 278,
   "metadata": {},
   "outputs": [],
   "source": [
    "# Current amount of shares held in both the stock (SPY) and bond (AGG) portion of the portfolio.\n",
    "spy_shares = 110\n",
    "agg_shares = 200\n"
   ]
  },
  {
   "cell_type": "markdown",
   "metadata": {},
   "source": [
    "#### Step 1: In the `Starter_Code` folder, create an environment file (`.env`) to store the values of your Alpaca API key and Alpaca secret key."
   ]
  },
  {
   "cell_type": "markdown",
   "metadata": {},
   "source": [
    "#### Step 2: Set the variables for the Alpaca API and secret keys. Using the Alpaca SDK, create the Alpaca `tradeapi.REST` object. In this object, include the parameters for the Alpaca API key, the secret key, and the version number."
   ]
  },
  {
   "cell_type": "code",
   "execution_count": 279,
   "metadata": {},
   "outputs": [
    {
     "data": {
      "text/plain": [
       "str"
      ]
     },
     "metadata": {},
     "output_type": "display_data"
    },
    {
     "data": {
      "text/plain": [
       "str"
      ]
     },
     "metadata": {},
     "output_type": "display_data"
    }
   ],
   "source": [
    "# Set the variables for the Alpaca API and secret keys\n",
    "alpaca_api_key = os.getenv(\"ALPACA_API_KEY\")\n",
    "alpaca_secret_key = os.getenv(\"ALPACA_SECRET_KEY\")\n",
    "\n",
    "display(type(alpaca_api_key))\n",
    "display(type(alpaca_secret_key))\n",
    "\n",
    "# Create the Alpaca tradeapi.REST object\n",
    "alpaca = tradeapi.REST(\n",
    "    alpaca_api_key,\n",
    "    alpaca_secret_key,\n",
    "    api_version=\"v2\"\n",
    ")\n"
   ]
  },
  {
   "cell_type": "markdown",
   "metadata": {},
   "source": [
    "#### Step 3: Set the following parameters for the Alpaca API call:\n",
    "\n",
    "- `tickers`: Use the tickers for the member’s stock and bond holdings.\n",
    "\n",
    "- `timeframe`: Use a time frame of one day.\n",
    "\n",
    "- `start_date` and `end_date`: Use the same date for these parameters, and format them with the date of the previous weekday (or `2020-08-07`). This is because you want the one closing price for the most-recent trading day.\n"
   ]
  },
  {
   "cell_type": "code",
   "execution_count": 280,
   "metadata": {},
   "outputs": [],
   "source": [
    "# Set the tickers for both the bond and stock portion of the portfolio\n",
    "tickers = [\"SPY\", \"AGG\"]\n",
    "# Set timeframe to 1Day\n",
    "timeframe = \"1Day\"\n",
    "\n",
    "# Format current date as ISO format\n",
    "# Set both the start and end date at the date of your prior weekday \n",
    "# This will give you the closing price of the previous trading day\n",
    "# Alternatively you can use a start and end date of 2020-08-07\n",
    "start_date = pd.Timestamp(\"2020-08-07\", tz=\"America/New_York\").isoformat()\n",
    "end_date = pd.Timestamp(\"2020-08-07\", tz=\"America/New_York\").isoformat()"
   ]
  },
  {
   "cell_type": "markdown",
   "metadata": {},
   "source": [
    "#### Step 4: Get the current closing prices for `SPY` and `AGG` by using the Alpaca `get_bars` function. Format the response as a Pandas DataFrame by including the `df` property at the end of the `get_bars` function."
   ]
  },
  {
   "cell_type": "code",
   "execution_count": 281,
   "metadata": {},
   "outputs": [
    {
     "data": {
      "text/html": [
       "<div>\n",
       "<style scoped>\n",
       "    .dataframe tbody tr th:only-of-type {\n",
       "        vertical-align: middle;\n",
       "    }\n",
       "\n",
       "    .dataframe tbody tr th {\n",
       "        vertical-align: top;\n",
       "    }\n",
       "\n",
       "    .dataframe thead tr th {\n",
       "        text-align: left;\n",
       "    }\n",
       "\n",
       "    .dataframe thead tr:last-of-type th {\n",
       "        text-align: right;\n",
       "    }\n",
       "</style>\n",
       "<table border=\"1\" class=\"dataframe\">\n",
       "  <thead>\n",
       "    <tr>\n",
       "      <th></th>\n",
       "      <th colspan=\"7\" halign=\"left\">SPY</th>\n",
       "      <th colspan=\"7\" halign=\"left\">AGG</th>\n",
       "    </tr>\n",
       "    <tr>\n",
       "      <th></th>\n",
       "      <th>open</th>\n",
       "      <th>high</th>\n",
       "      <th>low</th>\n",
       "      <th>close</th>\n",
       "      <th>volume</th>\n",
       "      <th>trade_count</th>\n",
       "      <th>vwap</th>\n",
       "      <th>open</th>\n",
       "      <th>high</th>\n",
       "      <th>low</th>\n",
       "      <th>close</th>\n",
       "      <th>volume</th>\n",
       "      <th>trade_count</th>\n",
       "      <th>vwap</th>\n",
       "    </tr>\n",
       "    <tr>\n",
       "      <th>timestamp</th>\n",
       "      <th></th>\n",
       "      <th></th>\n",
       "      <th></th>\n",
       "      <th></th>\n",
       "      <th></th>\n",
       "      <th></th>\n",
       "      <th></th>\n",
       "      <th></th>\n",
       "      <th></th>\n",
       "      <th></th>\n",
       "      <th></th>\n",
       "      <th></th>\n",
       "      <th></th>\n",
       "      <th></th>\n",
       "    </tr>\n",
       "  </thead>\n",
       "  <tbody>\n",
       "    <tr>\n",
       "      <th>2020-08-07 04:00:00+00:00</th>\n",
       "      <td>333.28</td>\n",
       "      <td>334.88</td>\n",
       "      <td>332.3</td>\n",
       "      <td>334.57</td>\n",
       "      <td>57282821</td>\n",
       "      <td>350100</td>\n",
       "      <td>333.800372</td>\n",
       "      <td>119.66</td>\n",
       "      <td>119.73</td>\n",
       "      <td>119.395</td>\n",
       "      <td>119.43</td>\n",
       "      <td>5559066</td>\n",
       "      <td>15246</td>\n",
       "      <td>119.475306</td>\n",
       "    </tr>\n",
       "  </tbody>\n",
       "</table>\n",
       "</div>"
      ],
      "text/plain": [
       "                              SPY                                   \\\n",
       "                             open    high    low   close    volume   \n",
       "timestamp                                                            \n",
       "2020-08-07 04:00:00+00:00  333.28  334.88  332.3  334.57  57282821   \n",
       "\n",
       "                                                      AGG                   \\\n",
       "                          trade_count        vwap    open    high      low   \n",
       "timestamp                                                                    \n",
       "2020-08-07 04:00:00+00:00      350100  333.800372  119.66  119.73  119.395   \n",
       "\n",
       "                                                                    \n",
       "                            close   volume trade_count        vwap  \n",
       "timestamp                                                           \n",
       "2020-08-07 04:00:00+00:00  119.43  5559066       15246  119.475306  "
      ]
     },
     "execution_count": 281,
     "metadata": {},
     "output_type": "execute_result"
    }
   ],
   "source": [
    "# Use the Alpaca get_bars function to get current closing prices the portfolio\n",
    "# Be sure to set the `df` property after the function to format the response object as a DataFrame\n",
    "prices_df = alpaca.get_bars(\n",
    "    tickers,\n",
    "    timeframe,\n",
    "    start=start_date,\n",
    "    end=end_date\n",
    ").df\n",
    "\n",
    "# Reorganize the DataFrame\n",
    "# Separate ticker data\n",
    "SPY = prices_df[prices_df['symbol']=='SPY'].drop('symbol', axis=1)\n",
    "AGG = prices_df[prices_df['symbol']=='AGG'].drop('symbol', axis=1)\n",
    "\n",
    "# Concatenate the ticker DataFrames\n",
    "closing_prices_df = pd.concat([SPY, AGG], axis=1, keys=[\"SPY\", \"AGG\"])\n",
    "\n",
    "# Review the first 5 rows of the Alpaca DataFrame\n",
    "closing_prices_df.head()"
   ]
  },
  {
   "cell_type": "markdown",
   "metadata": {},
   "source": [
    "#### Step 5: Navigating the Alpaca response DataFrame, select the `SPY` and `AGG` closing prices, and store them as variables."
   ]
  },
  {
   "cell_type": "code",
   "execution_count": 282,
   "metadata": {},
   "outputs": [
    {
     "name": "stdout",
     "output_type": "stream",
     "text": [
      "$119.43\n"
     ]
    }
   ],
   "source": [
    "# Access the closing price for AGG from the Alpaca DataFrame\n",
    "# Converting the value to a floating point number\n",
    "agg_close_price = float(closing_prices_df[\"AGG\"][\"close\"])\n",
    "\n",
    "# Print the AGG closing price\n",
    "print(f\"${agg_close_price}\")\n",
    "               "
   ]
  },
  {
   "cell_type": "code",
   "execution_count": 283,
   "metadata": {},
   "outputs": [
    {
     "name": "stdout",
     "output_type": "stream",
     "text": [
      "$334.57\n"
     ]
    }
   ],
   "source": [
    "# Access the closing price for SPY from the Alpaca DataFrame\n",
    "# Converting the value to a floating point number\n",
    "spy_close_price = float(closing_prices_df[\"SPY\"][\"close\"])\n",
    "\n",
    "# Print the SPY closing price\n",
    "print(f\"${spy_close_price}\")\n"
   ]
  },
  {
   "cell_type": "markdown",
   "metadata": {},
   "source": [
    "#### Step 6: Calculate the value, in US dollars, of the current amount of shares in each of the stock and bond portions of the portfolio, and print the results."
   ]
  },
  {
   "cell_type": "code",
   "execution_count": 284,
   "metadata": {},
   "outputs": [
    {
     "name": "stdout",
     "output_type": "stream",
     "text": [
      "$23886.0\n"
     ]
    }
   ],
   "source": [
    "# Calculate the current value of the bond portion of the portfolio\n",
    "agg_value = agg_shares * agg_close_price\n",
    "\n",
    "# Print the current value of the bond portfolio\n",
    "print(f\"${agg_value}\")"
   ]
  },
  {
   "cell_type": "code",
   "execution_count": 285,
   "metadata": {},
   "outputs": [
    {
     "name": "stdout",
     "output_type": "stream",
     "text": [
      "$36802.7\n"
     ]
    }
   ],
   "source": [
    "# Calculate the current value of the stock portion of the portfolio\n",
    "spy_value = spy_shares * spy_close_price\n",
    "\n",
    "# Print the current value of the stock portfolio\n",
    "print(f\"${spy_value}\")"
   ]
  },
  {
   "cell_type": "code",
   "execution_count": 286,
   "metadata": {},
   "outputs": [
    {
     "name": "stdout",
     "output_type": "stream",
     "text": [
      " $60688.7\n"
     ]
    }
   ],
   "source": [
    "# Calculate the total value of the stock and bond portion of the portfolio\n",
    "total_stocks_bonds = agg_value + spy_value\n",
    "\n",
    "# Print the current balance of the stock and bond portion of the portfolio\n",
    "print(f\" ${total_stocks_bonds}\")"
   ]
  },
  {
   "cell_type": "code",
   "execution_count": 287,
   "metadata": {},
   "outputs": [
    {
     "name": "stdout",
     "output_type": "stream",
     "text": [
      " $244762.19999999995\n"
     ]
    }
   ],
   "source": [
    "# Calculate the total value of the member's entire savings portfolio\n",
    "# Add the value of the cryptocurrency walled to the value of the total stocks and bonds\n",
    "total_portfolio = total_crypto_wallet + total_stocks_bonds\n",
    "\n",
    "# Print current cryptocurrency wallet balance\n",
    "print(f\" ${total_portfolio}\")"
   ]
  },
  {
   "cell_type": "markdown",
   "metadata": {},
   "source": [
    "### Evaluate the Emergency Fund\n",
    "\n",
    "In this section, you’ll use the valuations for the cryptocurrency wallet and for the stock and bond portions of the portfolio to determine if the credit union member has enough savings to build an emergency fund into their financial plan. To do this, complete the following steps:\n",
    "\n",
    "1. Create a Python list named `savings_data` that has two elements. The first element contains the total value of the cryptocurrency wallet. The second element contains the total value of the stock and bond portions of the portfolio.\n",
    "\n",
    "2. Use the `savings_data` list to create a Pandas DataFrame named `savings_df`, and then display this DataFrame. The function to create the DataFrame should take the following three parameters:\n",
    "\n",
    "    - `savings_data`: Use the list that you just created.\n",
    "\n",
    "    - `columns`: Set this parameter equal to a Python list with a single value called `amount`.\n",
    "\n",
    "    - `index`: Set this parameter equal to a Python list with the values of `crypto` and `stock/bond`.\n",
    "\n",
    "3. Use the `savings_df` DataFrame to plot a pie chart that visualizes the composition of the member’s portfolio. The y-axis of the pie chart uses `amount`. Be sure to add a title.\n",
    "\n",
    "4. Using Python, determine if the current portfolio has enough to create an emergency fund as part of the member’s financial plan. Ideally, an emergency fund should equal to three times the member’s monthly income. To do this, implement the following steps:\n",
    "\n",
    "    1. Create a variable named `emergency_fund_value`, and set it equal to three times the value of the member’s `monthly_income` of $12000. (You set this earlier in Part 1).\n",
    "\n",
    "    2. Create a series of three if statements to determine if the member’s total portfolio is large enough to fund the emergency portfolio:\n",
    "\n",
    "        1. If the total portfolio value is greater than the emergency fund value, display a message congratulating the member for having enough money in this fund.\n",
    "\n",
    "        2. Else if the total portfolio value is equal to the emergency fund value, display a message congratulating the member on reaching this important financial goal.\n",
    "\n",
    "        3. Else the total portfolio is less than the emergency fund value, so display a message showing how many dollars away the member is from reaching the goal. (Subtract the total portfolio value from the emergency fund value.)\n"
   ]
  },
  {
   "cell_type": "markdown",
   "metadata": {},
   "source": [
    "#### Step 1: Create a Python list named `savings_data` that has two elements. The first element contains the total value of the cryptocurrency wallet. The second element contains the total value of the stock and bond portions of the portfolio."
   ]
  },
  {
   "cell_type": "code",
   "execution_count": 288,
   "metadata": {},
   "outputs": [
    {
     "data": {
      "text/plain": [
       "[184073.49999999997, 60688.7]"
      ]
     },
     "execution_count": 288,
     "metadata": {},
     "output_type": "execute_result"
    }
   ],
   "source": [
    "# Consolidate financial assets data into a Python list\n",
    "savings_data = [total_crypto_wallet, total_stocks_bonds]\n",
    "\n",
    "# Review the Python list savings_data\n",
    "savings_data    "
   ]
  },
  {
   "cell_type": "markdown",
   "metadata": {},
   "source": [
    "#### Step 2: Use the `savings_data` list to create a Pandas DataFrame named `savings_df`, and then display this DataFrame. The function to create the DataFrame should take the following three parameters:\n",
    "\n",
    "- `savings_data`: Use the list that you just created.\n",
    "\n",
    "- `columns`: Set this parameter equal to a Python list with a single value called `amount`.\n",
    "\n",
    "- `index`: Set this parameter equal to a Python list with the values of `crypto` and `stock/bond`.\n"
   ]
  },
  {
   "cell_type": "code",
   "execution_count": 289,
   "metadata": {},
   "outputs": [
    {
     "data": {
      "text/html": [
       "<div>\n",
       "<style scoped>\n",
       "    .dataframe tbody tr th:only-of-type {\n",
       "        vertical-align: middle;\n",
       "    }\n",
       "\n",
       "    .dataframe tbody tr th {\n",
       "        vertical-align: top;\n",
       "    }\n",
       "\n",
       "    .dataframe thead th {\n",
       "        text-align: right;\n",
       "    }\n",
       "</style>\n",
       "<table border=\"1\" class=\"dataframe\">\n",
       "  <thead>\n",
       "    <tr style=\"text-align: right;\">\n",
       "      <th></th>\n",
       "      <th>amount</th>\n",
       "    </tr>\n",
       "  </thead>\n",
       "  <tbody>\n",
       "    <tr>\n",
       "      <th>crypto</th>\n",
       "      <td>184073.5</td>\n",
       "    </tr>\n",
       "    <tr>\n",
       "      <th>stock/bond</th>\n",
       "      <td>60688.7</td>\n",
       "    </tr>\n",
       "  </tbody>\n",
       "</table>\n",
       "</div>"
      ],
      "text/plain": [
       "              amount\n",
       "crypto      184073.5\n",
       "stock/bond   60688.7"
      ]
     },
     "execution_count": 289,
     "metadata": {},
     "output_type": "execute_result"
    }
   ],
   "source": [
    "# Create a Pandas DataFrame called savings_df \n",
    "savings_df = pd.DataFrame(\n",
    "    savings_data, \n",
    "    columns=[\"amount\"], \n",
    "    index=[\"crypto\", \"stock/bond\"])\n",
    "\n",
    "\n",
    "# Display the savings_df DataFrame\n",
    "savings_df"
   ]
  },
  {
   "cell_type": "markdown",
   "metadata": {},
   "source": [
    "#### Step 3: Use the `savings_df` DataFrame to plot a pie chart that visualizes the composition of the member’s portfolio. The y-axis of the pie chart uses `amount`. Be sure to add a title."
   ]
  },
  {
   "cell_type": "code",
   "execution_count": 290,
   "metadata": {},
   "outputs": [
    {
     "data": {
      "text/plain": [
       "<Axes: title={'center': 'Total Value of Portfolio'}, ylabel='amount'>"
      ]
     },
     "execution_count": 290,
     "metadata": {},
     "output_type": "execute_result"
    },
    {
     "data": {
      "image/png": "[encoded data removed]",
      "text/plain": [
       "<Figure size 640x480 with 1 Axes>"
      ]
     },
     "metadata": {},
     "output_type": "display_data"
    }
   ],
   "source": [
    "# Plot the total value of the member's portfolio (crypto and stock/bond) in a pie chart\n",
    "savings_df.plot(kind='pie', y='amount', title=\"Total Value of Portfolio\")"
   ]
  },
  {
   "cell_type": "markdown",
   "metadata": {},
   "source": [
    "#### Step 4: Using Python, determine if the current portfolio has enough to create an emergency fund as part of the member’s financial plan. Ideally, an emergency fund should equal to three times the member’s monthly income. To do this, implement the following steps:\n",
    "\n",
    "Step 1. Create a variable named `emergency_fund_value`, and set it equal to three times the value of the member’s `monthly_income` of 12000. (You set this earlier in Part 1).\n",
    "\n",
    "Step 2. Create a series of three if statements to determine if the member’s total portfolio is large enough to fund the emergency portfolio:\n",
    "\n",
    "* If the total portfolio value is greater than the emergency fund value, display a message congratulating the member for having enough money in this fund.\n",
    "\n",
    "* Else if the total portfolio value is equal to the emergency fund value, display a message congratulating the member on reaching this important financial goal.\n",
    "\n",
    "* Else the total portfolio is less than the emergency fund value, so display a message showing how many dollars away the member is from reaching the goal. (Subtract the total portfolio value from the emergency fund value.)\n"
   ]
  },
  {
   "cell_type": "markdown",
   "metadata": {},
   "source": [
    "##### Step 4-1: Create a variable named `emergency_fund_value`, and set it equal to three times the value of the member’s `monthly_income` of 12000. (You set this earlier in Part 1)."
   ]
  },
  {
   "cell_type": "code",
   "execution_count": 291,
   "metadata": {},
   "outputs": [],
   "source": [
    "# Set member's monthly income to 12000\n",
    "monthly_income = 12000\n",
    "\n",
    "# Create a variable named emergency_fund_value\n",
    "emergency_fund_value = monthly_income * 3"
   ]
  },
  {
   "cell_type": "markdown",
   "metadata": {},
   "source": [
    "##### Step 4-2: Create a series of three if statements to determine if the member’s total portfolio is large enough to fund the emergency portfolio:\n",
    "\n",
    "* If the total portfolio value is greater than the emergency fund value, display a message congratulating the member for having enough money in this fund.\n",
    "\n",
    "* Else if the total portfolio value is equal to the emergency fund value, display a message congratulating the member on reaching this important financial goal.\n",
    "\n",
    "* Else the total portfolio is less than the emergency fund value, so display a message showing how many dollars away the member is from reaching the goal. (Subtract the total portfolio value from the emergency fund value.)"
   ]
  },
  {
   "cell_type": "code",
   "execution_count": 292,
   "metadata": {},
   "outputs": [
    {
     "name": "stdout",
     "output_type": "stream",
     "text": [
      "Congratulations! Your total portfolio value is greater than your emergency fund value.\n"
     ]
    }
   ],
   "source": [
    "# Evaluate the possibility of creating an emergency fund with 3 conditions:\n",
    "# YOUR CODE HERE\n",
    "# YOUR CODE HERE\n",
    "# YOUR CODE HERE\n",
    "# Check if the total portfolio is large enough to fund the emergency fund\n",
    "emergency_fund_value = monthly_income * 3\n",
    "\n",
    "if total_portfolio > emergency_fund_value:\n",
    "    print(\"Congratulations! Your total portfolio value is greater than your emergency fund value.\")\n",
    "elif total_portfolio == emergency_fund_value:\n",
    "    print(\"Congratulations! You have reached your emergency fund goal.\")\n",
    "else:\n",
    "    remaining_amount = emergency_fund_value - total_portfolio\n",
    "    print(f\"You are {remaining_amount:.2f} dollars away from reaching your emergency fund goal.\")\n"
   ]
  },
  {
   "cell_type": "markdown",
   "metadata": {},
   "source": [
    "## Part 2: Create a Financial Planner for Retirement"
   ]
  },
  {
   "cell_type": "markdown",
   "metadata": {},
   "source": [
    "### Create the Monte Carlo Simulation\n",
    "\n",
    "In this section, you’ll use the MCForecastTools library to create a Monte Carlo simulation for the member’s savings portfolio. To do this, complete the following steps:\n",
    "\n",
    "1. Make an API call via the Alpaca SDK to get 3 years of historical closing prices for a traditional 60/40 portfolio split: 60% stocks (SPY) and 40% bonds (AGG).\n",
    "\n",
    "2. Run a Monte Carlo simulation of 500 samples and 30 years for the 60/40 portfolio, and then plot the results.The following image shows the overlay line plot resulting from a simulation with these characteristics. However, because a random number generator is used to run each live Monte Carlo simulation, your image will differ slightly from this exact image:\n",
    "\n",
    "![A screenshot depicts the resulting plot.](Images/5-4-monte-carlo-line-plot.png)\n",
    "\n",
    "3. Plot the probability distribution of the Monte Carlo simulation. Plot the probability distribution of the Monte Carlo simulation. The following image shows the histogram plot resulting from a simulation with these characteristics. However, because a random number generator is used to run each live Monte Carlo simulation, your image will differ slightly from this exact image:\n",
    "\n",
    "![A screenshot depicts the histogram plot.](Images/5-4-monte-carlo-histogram.png)\n",
    "\n",
    "4. Generate the summary statistics for the Monte Carlo simulation.\n",
    "\n"
   ]
  },
  {
   "cell_type": "markdown",
   "metadata": {},
   "source": [
    "#### Step 1: Make an API call via the Alpaca SDK to get 3 years of historical closing prices for a traditional 60/40 portfolio split: 60% stocks (SPY) and 40% bonds (AGG)."
   ]
  },
  {
   "cell_type": "code",
   "execution_count": 293,
   "metadata": {},
   "outputs": [],
   "source": [
    "# Set start and end dates of 3 years back from your current date\n",
    "# Alternatively, you can use an end date of 2020-08-07 and work 3 years back from that date \n",
    "start_date = pd.Timestamp(\"2018-08-07\", tz=\"America/New_York\").isoformat()\n",
    "end_date = pd.Timestamp(\"2021-08-07\", tz=\"America/New_York\").isoformat()\n"
   ]
  },
  {
   "cell_type": "code",
   "execution_count": 294,
   "metadata": {},
   "outputs": [
    {
     "data": {
      "text/html": [
       "<div>\n",
       "<style scoped>\n",
       "    .dataframe tbody tr th:only-of-type {\n",
       "        vertical-align: middle;\n",
       "    }\n",
       "\n",
       "    .dataframe tbody tr th {\n",
       "        vertical-align: top;\n",
       "    }\n",
       "\n",
       "    .dataframe thead tr th {\n",
       "        text-align: left;\n",
       "    }\n",
       "\n",
       "    .dataframe thead tr:last-of-type th {\n",
       "        text-align: right;\n",
       "    }\n",
       "</style>\n",
       "<table border=\"1\" class=\"dataframe\">\n",
       "  <thead>\n",
       "    <tr>\n",
       "      <th></th>\n",
       "      <th colspan=\"7\" halign=\"left\">SPY</th>\n",
       "      <th colspan=\"7\" halign=\"left\">AGG</th>\n",
       "    </tr>\n",
       "    <tr>\n",
       "      <th></th>\n",
       "      <th>open</th>\n",
       "      <th>high</th>\n",
       "      <th>low</th>\n",
       "      <th>close</th>\n",
       "      <th>volume</th>\n",
       "      <th>trade_count</th>\n",
       "      <th>vwap</th>\n",
       "      <th>open</th>\n",
       "      <th>high</th>\n",
       "      <th>low</th>\n",
       "      <th>close</th>\n",
       "      <th>volume</th>\n",
       "      <th>trade_count</th>\n",
       "      <th>vwap</th>\n",
       "    </tr>\n",
       "    <tr>\n",
       "      <th>timestamp</th>\n",
       "      <th></th>\n",
       "      <th></th>\n",
       "      <th></th>\n",
       "      <th></th>\n",
       "      <th></th>\n",
       "      <th></th>\n",
       "      <th></th>\n",
       "      <th></th>\n",
       "      <th></th>\n",
       "      <th></th>\n",
       "      <th></th>\n",
       "      <th></th>\n",
       "      <th></th>\n",
       "      <th></th>\n",
       "    </tr>\n",
       "  </thead>\n",
       "  <tbody>\n",
       "    <tr>\n",
       "      <th>2021-08-02 04:00:00+00:00</th>\n",
       "      <td>440.34</td>\n",
       "      <td>440.9300</td>\n",
       "      <td>437.21</td>\n",
       "      <td>437.59</td>\n",
       "      <td>58330752</td>\n",
       "      <td>406413</td>\n",
       "      <td>438.944582</td>\n",
       "      <td>116.36</td>\n",
       "      <td>116.68</td>\n",
       "      <td>116.3050</td>\n",
       "      <td>116.54</td>\n",
       "      <td>5753265</td>\n",
       "      <td>21686</td>\n",
       "      <td>116.522392</td>\n",
       "    </tr>\n",
       "    <tr>\n",
       "      <th>2021-08-03 04:00:00+00:00</th>\n",
       "      <td>438.44</td>\n",
       "      <td>441.2800</td>\n",
       "      <td>436.10</td>\n",
       "      <td>441.15</td>\n",
       "      <td>57534514</td>\n",
       "      <td>409775</td>\n",
       "      <td>439.164437</td>\n",
       "      <td>116.56</td>\n",
       "      <td>116.69</td>\n",
       "      <td>116.5306</td>\n",
       "      <td>116.58</td>\n",
       "      <td>3715197</td>\n",
       "      <td>14813</td>\n",
       "      <td>116.598361</td>\n",
       "    </tr>\n",
       "    <tr>\n",
       "      <th>2021-08-04 04:00:00+00:00</th>\n",
       "      <td>439.78</td>\n",
       "      <td>441.1243</td>\n",
       "      <td>438.73</td>\n",
       "      <td>438.98</td>\n",
       "      <td>46469753</td>\n",
       "      <td>335732</td>\n",
       "      <td>439.704756</td>\n",
       "      <td>116.77</td>\n",
       "      <td>116.83</td>\n",
       "      <td>116.3000</td>\n",
       "      <td>116.57</td>\n",
       "      <td>4654034</td>\n",
       "      <td>17826</td>\n",
       "      <td>116.540786</td>\n",
       "    </tr>\n",
       "    <tr>\n",
       "      <th>2021-08-05 04:00:00+00:00</th>\n",
       "      <td>440.22</td>\n",
       "      <td>441.8500</td>\n",
       "      <td>439.88</td>\n",
       "      <td>441.76</td>\n",
       "      <td>38840294</td>\n",
       "      <td>258694</td>\n",
       "      <td>440.686551</td>\n",
       "      <td>116.46</td>\n",
       "      <td>116.48</td>\n",
       "      <td>116.2800</td>\n",
       "      <td>116.31</td>\n",
       "      <td>3283363</td>\n",
       "      <td>12221</td>\n",
       "      <td>116.367864</td>\n",
       "    </tr>\n",
       "    <tr>\n",
       "      <th>2021-08-06 04:00:00+00:00</th>\n",
       "      <td>442.10</td>\n",
       "      <td>442.9400</td>\n",
       "      <td>441.80</td>\n",
       "      <td>442.49</td>\n",
       "      <td>46862730</td>\n",
       "      <td>283559</td>\n",
       "      <td>442.305357</td>\n",
       "      <td>115.93</td>\n",
       "      <td>116.02</td>\n",
       "      <td>115.7800</td>\n",
       "      <td>115.79</td>\n",
       "      <td>3811240</td>\n",
       "      <td>11510</td>\n",
       "      <td>115.874090</td>\n",
       "    </tr>\n",
       "  </tbody>\n",
       "</table>\n",
       "</div>"
      ],
      "text/plain": [
       "                              SPY                                      \\\n",
       "                             open      high     low   close    volume   \n",
       "timestamp                                                               \n",
       "2021-08-02 04:00:00+00:00  440.34  440.9300  437.21  437.59  58330752   \n",
       "2021-08-03 04:00:00+00:00  438.44  441.2800  436.10  441.15  57534514   \n",
       "2021-08-04 04:00:00+00:00  439.78  441.1243  438.73  438.98  46469753   \n",
       "2021-08-05 04:00:00+00:00  440.22  441.8500  439.88  441.76  38840294   \n",
       "2021-08-06 04:00:00+00:00  442.10  442.9400  441.80  442.49  46862730   \n",
       "\n",
       "                                                      AGG                    \\\n",
       "                          trade_count        vwap    open    high       low   \n",
       "timestamp                                                                     \n",
       "2021-08-02 04:00:00+00:00      406413  438.944582  116.36  116.68  116.3050   \n",
       "2021-08-03 04:00:00+00:00      409775  439.164437  116.56  116.69  116.5306   \n",
       "2021-08-04 04:00:00+00:00      335732  439.704756  116.77  116.83  116.3000   \n",
       "2021-08-05 04:00:00+00:00      258694  440.686551  116.46  116.48  116.2800   \n",
       "2021-08-06 04:00:00+00:00      283559  442.305357  115.93  116.02  115.7800   \n",
       "\n",
       "                                                                    \n",
       "                            close   volume trade_count        vwap  \n",
       "timestamp                                                           \n",
       "2021-08-02 04:00:00+00:00  116.54  5753265       21686  116.522392  \n",
       "2021-08-03 04:00:00+00:00  116.58  3715197       14813  116.598361  \n",
       "2021-08-04 04:00:00+00:00  116.57  4654034       17826  116.540786  \n",
       "2021-08-05 04:00:00+00:00  116.31  3283363       12221  116.367864  \n",
       "2021-08-06 04:00:00+00:00  115.79  3811240       11510  115.874090  "
      ]
     },
     "execution_count": 294,
     "metadata": {},
     "output_type": "execute_result"
    }
   ],
   "source": [
    "# Use the Alpaca get_bars function to make the API call to get the 3 years worth of pricing data\n",
    "# The tickers and timeframe parameters should have been set in Part 1 of this activity \n",
    "# The start and end dates should be updated with the information set above\n",
    "# Remember to add the df property to the end of the call so the response is returned as a DataFrame\n",
    "prices_df = alpaca.get_bars(\n",
    "    tickers,\n",
    "    timeframe,\n",
    "    start=start_date,\n",
    "    end=end_date\n",
    ").df\n",
    "# Reorganize the DataFrame\n",
    "# Separate ticker data\n",
    "SPY = prices_df[prices_df['symbol']=='SPY'].drop('symbol', axis=1)\n",
    "AGG = prices_df[prices_df['symbol']=='AGG'].drop('symbol', axis=1)\n",
    "\n",
    "\n",
    "# Concatenate the ticker DataFrames\n",
    "historical_prices = pd.concat([SPY, AGG], axis=1, keys=[\"SPY\", \"AGG\"])\n",
    "\n",
    "# Display both the first and last five rows of the DataFrame\n",
    "historical_prices.head()\n",
    "historical_prices.tail()"
   ]
  },
  {
   "cell_type": "markdown",
   "metadata": {},
   "source": [
    "#### Step 2: Run a Monte Carlo simulation of 500 samples and 30 years for the 60/40 portfolio, and then plot the results."
   ]
  },
  {
   "cell_type": "code",
   "execution_count": 295,
   "metadata": {},
   "outputs": [
    {
     "data": {
      "text/html": [
       "<div>\n",
       "<style scoped>\n",
       "    .dataframe tbody tr th:only-of-type {\n",
       "        vertical-align: middle;\n",
       "    }\n",
       "\n",
       "    .dataframe tbody tr th {\n",
       "        vertical-align: top;\n",
       "    }\n",
       "\n",
       "    .dataframe thead tr th {\n",
       "        text-align: left;\n",
       "    }\n",
       "\n",
       "    .dataframe thead tr:last-of-type th {\n",
       "        text-align: right;\n",
       "    }\n",
       "</style>\n",
       "<table border=\"1\" class=\"dataframe\">\n",
       "  <thead>\n",
       "    <tr>\n",
       "      <th></th>\n",
       "      <th colspan=\"8\" halign=\"left\">SPY</th>\n",
       "      <th colspan=\"8\" halign=\"left\">AGG</th>\n",
       "    </tr>\n",
       "    <tr>\n",
       "      <th></th>\n",
       "      <th>open</th>\n",
       "      <th>high</th>\n",
       "      <th>low</th>\n",
       "      <th>close</th>\n",
       "      <th>volume</th>\n",
       "      <th>trade_count</th>\n",
       "      <th>vwap</th>\n",
       "      <th>daily_return</th>\n",
       "      <th>open</th>\n",
       "      <th>high</th>\n",
       "      <th>low</th>\n",
       "      <th>close</th>\n",
       "      <th>volume</th>\n",
       "      <th>trade_count</th>\n",
       "      <th>vwap</th>\n",
       "      <th>daily_return</th>\n",
       "    </tr>\n",
       "    <tr>\n",
       "      <th>timestamp</th>\n",
       "      <th></th>\n",
       "      <th></th>\n",
       "      <th></th>\n",
       "      <th></th>\n",
       "      <th></th>\n",
       "      <th></th>\n",
       "      <th></th>\n",
       "      <th></th>\n",
       "      <th></th>\n",
       "      <th></th>\n",
       "      <th></th>\n",
       "      <th></th>\n",
       "      <th></th>\n",
       "      <th></th>\n",
       "      <th></th>\n",
       "      <th></th>\n",
       "    </tr>\n",
       "  </thead>\n",
       "  <tbody>\n",
       "    <tr>\n",
       "      <th>2018-08-07 04:00:00+00:00</th>\n",
       "      <td>285.39</td>\n",
       "      <td>286.010</td>\n",
       "      <td>285.240</td>\n",
       "      <td>285.58</td>\n",
       "      <td>43427090</td>\n",
       "      <td>181015</td>\n",
       "      <td>285.635439</td>\n",
       "      <td>NaN</td>\n",
       "      <td>105.97</td>\n",
       "      <td>105.97</td>\n",
       "      <td>105.8250</td>\n",
       "      <td>105.85</td>\n",
       "      <td>2532774</td>\n",
       "      <td>9522</td>\n",
       "      <td>105.876672</td>\n",
       "      <td>NaN</td>\n",
       "    </tr>\n",
       "    <tr>\n",
       "      <th>2018-08-08 04:00:00+00:00</th>\n",
       "      <td>285.39</td>\n",
       "      <td>285.910</td>\n",
       "      <td>284.940</td>\n",
       "      <td>285.44</td>\n",
       "      <td>42273966</td>\n",
       "      <td>154349</td>\n",
       "      <td>285.479104</td>\n",
       "      <td>-0.000490</td>\n",
       "      <td>105.83</td>\n",
       "      <td>105.91</td>\n",
       "      <td>105.8000</td>\n",
       "      <td>105.85</td>\n",
       "      <td>1937527</td>\n",
       "      <td>9394</td>\n",
       "      <td>105.848006</td>\n",
       "      <td>0.000000</td>\n",
       "    </tr>\n",
       "    <tr>\n",
       "      <th>2018-08-09 04:00:00+00:00</th>\n",
       "      <td>285.53</td>\n",
       "      <td>285.970</td>\n",
       "      <td>284.915</td>\n",
       "      <td>285.09</td>\n",
       "      <td>37130583</td>\n",
       "      <td>140980</td>\n",
       "      <td>285.455348</td>\n",
       "      <td>-0.001226</td>\n",
       "      <td>105.97</td>\n",
       "      <td>106.04</td>\n",
       "      <td>105.9329</td>\n",
       "      <td>106.00</td>\n",
       "      <td>2386756</td>\n",
       "      <td>10063</td>\n",
       "      <td>105.993103</td>\n",
       "      <td>0.001417</td>\n",
       "    </tr>\n",
       "    <tr>\n",
       "      <th>2018-08-10 04:00:00+00:00</th>\n",
       "      <td>283.45</td>\n",
       "      <td>284.055</td>\n",
       "      <td>282.360</td>\n",
       "      <td>283.16</td>\n",
       "      <td>77399449</td>\n",
       "      <td>292690</td>\n",
       "      <td>283.350560</td>\n",
       "      <td>-0.006770</td>\n",
       "      <td>106.11</td>\n",
       "      <td>106.36</td>\n",
       "      <td>106.1100</td>\n",
       "      <td>106.23</td>\n",
       "      <td>4136487</td>\n",
       "      <td>12317</td>\n",
       "      <td>106.238745</td>\n",
       "      <td>0.002170</td>\n",
       "    </tr>\n",
       "    <tr>\n",
       "      <th>2018-08-13 04:00:00+00:00</th>\n",
       "      <td>283.47</td>\n",
       "      <td>284.160</td>\n",
       "      <td>281.770</td>\n",
       "      <td>282.08</td>\n",
       "      <td>65970064</td>\n",
       "      <td>270772</td>\n",
       "      <td>282.691061</td>\n",
       "      <td>-0.003814</td>\n",
       "      <td>106.16</td>\n",
       "      <td>106.30</td>\n",
       "      <td>106.1501</td>\n",
       "      <td>106.29</td>\n",
       "      <td>2786308</td>\n",
       "      <td>13888</td>\n",
       "      <td>106.241962</td>\n",
       "      <td>0.000565</td>\n",
       "    </tr>\n",
       "  </tbody>\n",
       "</table>\n",
       "</div>"
      ],
      "text/plain": [
       "                              SPY                                      \\\n",
       "                             open     high      low   close    volume   \n",
       "timestamp                                                               \n",
       "2018-08-07 04:00:00+00:00  285.39  286.010  285.240  285.58  43427090   \n",
       "2018-08-08 04:00:00+00:00  285.39  285.910  284.940  285.44  42273966   \n",
       "2018-08-09 04:00:00+00:00  285.53  285.970  284.915  285.09  37130583   \n",
       "2018-08-10 04:00:00+00:00  283.45  284.055  282.360  283.16  77399449   \n",
       "2018-08-13 04:00:00+00:00  283.47  284.160  281.770  282.08  65970064   \n",
       "\n",
       "                                                                   AGG  \\\n",
       "                          trade_count        vwap daily_return    open   \n",
       "timestamp                                                                \n",
       "2018-08-07 04:00:00+00:00      181015  285.635439          NaN  105.97   \n",
       "2018-08-08 04:00:00+00:00      154349  285.479104    -0.000490  105.83   \n",
       "2018-08-09 04:00:00+00:00      140980  285.455348    -0.001226  105.97   \n",
       "2018-08-10 04:00:00+00:00      292690  283.350560    -0.006770  106.11   \n",
       "2018-08-13 04:00:00+00:00      270772  282.691061    -0.003814  106.16   \n",
       "\n",
       "                                                                          \\\n",
       "                             high       low   close   volume trade_count   \n",
       "timestamp                                                                  \n",
       "2018-08-07 04:00:00+00:00  105.97  105.8250  105.85  2532774        9522   \n",
       "2018-08-08 04:00:00+00:00  105.91  105.8000  105.85  1937527        9394   \n",
       "2018-08-09 04:00:00+00:00  106.04  105.9329  106.00  2386756       10063   \n",
       "2018-08-10 04:00:00+00:00  106.36  106.1100  106.23  4136487       12317   \n",
       "2018-08-13 04:00:00+00:00  106.30  106.1501  106.29  2786308       13888   \n",
       "\n",
       "                                                    \n",
       "                                 vwap daily_return  \n",
       "timestamp                                           \n",
       "2018-08-07 04:00:00+00:00  105.876672          NaN  \n",
       "2018-08-08 04:00:00+00:00  105.848006     0.000000  \n",
       "2018-08-09 04:00:00+00:00  105.993103     0.001417  \n",
       "2018-08-10 04:00:00+00:00  106.238745     0.002170  \n",
       "2018-08-13 04:00:00+00:00  106.241962     0.000565  "
      ]
     },
     "execution_count": 295,
     "metadata": {},
     "output_type": "execute_result"
    }
   ],
   "source": [
    "# Configure the Monte Carlo simulation to forecast 30 years cumulative returns\n",
    "# The weights should be split 40% to AGG and 60% to SPY.\n",
    "# Run 500 samples.\n",
    "MC_sim = MCSimulation(\n",
    "    portfolio_data = historical_prices,\n",
    "    weights = [.60, .40],\n",
    "    num_simulation = 500,\n",
    "    num_trading_days = 252*30\n",
    ")\n",
    "\n",
    "# Review the simulation input data\n",
    "MC_sim.portfolio_data.head()"
   ]
  },
  {
   "cell_type": "code",
   "execution_count": 296,
   "metadata": {},
   "outputs": [
    {
     "name": "stdout",
     "output_type": "stream",
     "text": [
      "Running Monte Carlo simulation number 0.\n",
      "Running Monte Carlo simulation number 10.\n",
      "Running Monte Carlo simulation number 20.\n",
      "Running Monte Carlo simulation number 30.\n",
      "Running Monte Carlo simulation number 40.\n",
      "Running Monte Carlo simulation number 50.\n",
      "Running Monte Carlo simulation number 60.\n",
      "Running Monte Carlo simulation number 70.\n",
      "Running Monte Carlo simulation number 80.\n",
      "Running Monte Carlo simulation number 90.\n",
      "Running Monte Carlo simulation number 100.\n",
      "Running Monte Carlo simulation number 110.\n",
      "Running Monte Carlo simulation number 120.\n",
      "Running Monte Carlo simulation number 130.\n",
      "Running Monte Carlo simulation number 140.\n",
      "Running Monte Carlo simulation number 150.\n",
      "Running Monte Carlo simulation number 160.\n",
      "Running Monte Carlo simulation number 170.\n",
      "Running Monte Carlo simulation number 180.\n",
      "Running Monte Carlo simulation number 190.\n",
      "Running Monte Carlo simulation number 200.\n",
      "Running Monte Carlo simulation number 210.\n",
      "Running Monte Carlo simulation number 220.\n",
      "Running Monte Carlo simulation number 230.\n",
      "Running Monte Carlo simulation number 240.\n",
      "Running Monte Carlo simulation number 250.\n",
      "Running Monte Carlo simulation number 260.\n",
      "Running Monte Carlo simulation number 270.\n",
      "Running Monte Carlo simulation number 280.\n",
      "Running Monte Carlo simulation number 290.\n",
      "Running Monte Carlo simulation number 300.\n",
      "Running Monte Carlo simulation number 310.\n",
      "Running Monte Carlo simulation number 320.\n",
      "Running Monte Carlo simulation number 330.\n",
      "Running Monte Carlo simulation number 340.\n",
      "Running Monte Carlo simulation number 350.\n",
      "Running Monte Carlo simulation number 360.\n",
      "Running Monte Carlo simulation number 370.\n",
      "Running Monte Carlo simulation number 380.\n",
      "Running Monte Carlo simulation number 390.\n",
      "Running Monte Carlo simulation number 400.\n",
      "Running Monte Carlo simulation number 410.\n",
      "Running Monte Carlo simulation number 420.\n",
      "Running Monte Carlo simulation number 430.\n",
      "Running Monte Carlo simulation number 440.\n",
      "Running Monte Carlo simulation number 450.\n",
      "Running Monte Carlo simulation number 460.\n",
      "Running Monte Carlo simulation number 470.\n",
      "Running Monte Carlo simulation number 480.\n",
      "Running Monte Carlo simulation number 490.\n"
     ]
    },
    {
     "data": {
      "text/html": [
       "<div>\n",
       "<style scoped>\n",
       "    .dataframe tbody tr th:only-of-type {\n",
       "        vertical-align: middle;\n",
       "    }\n",
       "\n",
       "    .dataframe tbody tr th {\n",
       "        vertical-align: top;\n",
       "    }\n",
       "\n",
       "    .dataframe thead th {\n",
       "        text-align: right;\n",
       "    }\n",
       "</style>\n",
       "<table border=\"1\" class=\"dataframe\">\n",
       "  <thead>\n",
       "    <tr style=\"text-align: right;\">\n",
       "      <th></th>\n",
       "      <th>0</th>\n",
       "      <th>1</th>\n",
       "      <th>2</th>\n",
       "      <th>3</th>\n",
       "      <th>4</th>\n",
       "      <th>5</th>\n",
       "      <th>6</th>\n",
       "      <th>7</th>\n",
       "      <th>8</th>\n",
       "      <th>9</th>\n",
       "      <th>...</th>\n",
       "      <th>490</th>\n",
       "      <th>491</th>\n",
       "      <th>492</th>\n",
       "      <th>493</th>\n",
       "      <th>494</th>\n",
       "      <th>495</th>\n",
       "      <th>496</th>\n",
       "      <th>497</th>\n",
       "      <th>498</th>\n",
       "      <th>499</th>\n",
       "    </tr>\n",
       "  </thead>\n",
       "  <tbody>\n",
       "    <tr>\n",
       "      <th>0</th>\n",
       "      <td>1.000000</td>\n",
       "      <td>1.000000</td>\n",
       "      <td>1.000000</td>\n",
       "      <td>1.000000</td>\n",
       "      <td>1.000000</td>\n",
       "      <td>1.000000</td>\n",
       "      <td>1.000000</td>\n",
       "      <td>1.000000</td>\n",
       "      <td>1.000000</td>\n",
       "      <td>1.000000</td>\n",
       "      <td>...</td>\n",
       "      <td>1.000000</td>\n",
       "      <td>1.000000</td>\n",
       "      <td>1.000000</td>\n",
       "      <td>1.000000</td>\n",
       "      <td>1.000000</td>\n",
       "      <td>1.000000</td>\n",
       "      <td>1.000000</td>\n",
       "      <td>1.000000</td>\n",
       "      <td>1.000000</td>\n",
       "      <td>1.000000</td>\n",
       "    </tr>\n",
       "    <tr>\n",
       "      <th>1</th>\n",
       "      <td>1.005034</td>\n",
       "      <td>0.993411</td>\n",
       "      <td>1.001318</td>\n",
       "      <td>1.012253</td>\n",
       "      <td>0.998623</td>\n",
       "      <td>1.007462</td>\n",
       "      <td>1.010184</td>\n",
       "      <td>0.997512</td>\n",
       "      <td>1.007750</td>\n",
       "      <td>1.005852</td>\n",
       "      <td>...</td>\n",
       "      <td>1.001718</td>\n",
       "      <td>1.000447</td>\n",
       "      <td>0.984094</td>\n",
       "      <td>1.015784</td>\n",
       "      <td>0.998490</td>\n",
       "      <td>1.004136</td>\n",
       "      <td>1.011440</td>\n",
       "      <td>1.009700</td>\n",
       "      <td>1.001198</td>\n",
       "      <td>1.003749</td>\n",
       "    </tr>\n",
       "    <tr>\n",
       "      <th>2</th>\n",
       "      <td>1.012074</td>\n",
       "      <td>1.003545</td>\n",
       "      <td>1.006746</td>\n",
       "      <td>1.022302</td>\n",
       "      <td>1.008313</td>\n",
       "      <td>1.004690</td>\n",
       "      <td>1.005968</td>\n",
       "      <td>1.004971</td>\n",
       "      <td>1.007577</td>\n",
       "      <td>1.001528</td>\n",
       "      <td>...</td>\n",
       "      <td>1.004313</td>\n",
       "      <td>1.011964</td>\n",
       "      <td>0.987589</td>\n",
       "      <td>1.024173</td>\n",
       "      <td>0.996367</td>\n",
       "      <td>1.010724</td>\n",
       "      <td>0.997049</td>\n",
       "      <td>1.003763</td>\n",
       "      <td>0.989658</td>\n",
       "      <td>1.003995</td>\n",
       "    </tr>\n",
       "    <tr>\n",
       "      <th>3</th>\n",
       "      <td>1.016104</td>\n",
       "      <td>1.000383</td>\n",
       "      <td>1.004884</td>\n",
       "      <td>1.019607</td>\n",
       "      <td>1.011036</td>\n",
       "      <td>1.002666</td>\n",
       "      <td>0.998850</td>\n",
       "      <td>1.007762</td>\n",
       "      <td>0.991977</td>\n",
       "      <td>0.994799</td>\n",
       "      <td>...</td>\n",
       "      <td>1.006065</td>\n",
       "      <td>1.019746</td>\n",
       "      <td>0.985018</td>\n",
       "      <td>1.018924</td>\n",
       "      <td>1.007996</td>\n",
       "      <td>1.031970</td>\n",
       "      <td>0.984402</td>\n",
       "      <td>1.001941</td>\n",
       "      <td>0.976760</td>\n",
       "      <td>1.001877</td>\n",
       "    </tr>\n",
       "    <tr>\n",
       "      <th>4</th>\n",
       "      <td>1.014641</td>\n",
       "      <td>1.013406</td>\n",
       "      <td>1.021722</td>\n",
       "      <td>1.011982</td>\n",
       "      <td>1.000289</td>\n",
       "      <td>1.003063</td>\n",
       "      <td>0.993078</td>\n",
       "      <td>1.004170</td>\n",
       "      <td>0.998504</td>\n",
       "      <td>0.999764</td>\n",
       "      <td>...</td>\n",
       "      <td>1.024256</td>\n",
       "      <td>1.020371</td>\n",
       "      <td>0.993851</td>\n",
       "      <td>0.999779</td>\n",
       "      <td>1.007948</td>\n",
       "      <td>1.038265</td>\n",
       "      <td>0.979355</td>\n",
       "      <td>1.004792</td>\n",
       "      <td>0.963816</td>\n",
       "      <td>0.997539</td>\n",
       "    </tr>\n",
       "    <tr>\n",
       "      <th>...</th>\n",
       "      <td>...</td>\n",
       "      <td>...</td>\n",
       "      <td>...</td>\n",
       "      <td>...</td>\n",
       "      <td>...</td>\n",
       "      <td>...</td>\n",
       "      <td>...</td>\n",
       "      <td>...</td>\n",
       "      <td>...</td>\n",
       "      <td>...</td>\n",
       "      <td>...</td>\n",
       "      <td>...</td>\n",
       "      <td>...</td>\n",
       "      <td>...</td>\n",
       "      <td>...</td>\n",
       "      <td>...</td>\n",
       "      <td>...</td>\n",
       "      <td>...</td>\n",
       "      <td>...</td>\n",
       "      <td>...</td>\n",
       "      <td>...</td>\n",
       "    </tr>\n",
       "    <tr>\n",
       "      <th>7556</th>\n",
       "      <td>9.091725</td>\n",
       "      <td>13.210022</td>\n",
       "      <td>21.479017</td>\n",
       "      <td>17.737728</td>\n",
       "      <td>143.753773</td>\n",
       "      <td>17.211549</td>\n",
       "      <td>16.405008</td>\n",
       "      <td>20.656927</td>\n",
       "      <td>61.442162</td>\n",
       "      <td>29.309586</td>\n",
       "      <td>...</td>\n",
       "      <td>8.050142</td>\n",
       "      <td>22.472598</td>\n",
       "      <td>62.375634</td>\n",
       "      <td>9.384033</td>\n",
       "      <td>59.174953</td>\n",
       "      <td>54.107108</td>\n",
       "      <td>30.768237</td>\n",
       "      <td>27.159316</td>\n",
       "      <td>10.180590</td>\n",
       "      <td>35.654612</td>\n",
       "    </tr>\n",
       "    <tr>\n",
       "      <th>7557</th>\n",
       "      <td>9.063889</td>\n",
       "      <td>13.364424</td>\n",
       "      <td>21.866058</td>\n",
       "      <td>17.701739</td>\n",
       "      <td>144.636296</td>\n",
       "      <td>17.409910</td>\n",
       "      <td>16.490807</td>\n",
       "      <td>20.388985</td>\n",
       "      <td>60.583032</td>\n",
       "      <td>29.690823</td>\n",
       "      <td>...</td>\n",
       "      <td>8.098122</td>\n",
       "      <td>22.592080</td>\n",
       "      <td>63.056113</td>\n",
       "      <td>9.353486</td>\n",
       "      <td>59.699423</td>\n",
       "      <td>54.668737</td>\n",
       "      <td>30.471683</td>\n",
       "      <td>26.828242</td>\n",
       "      <td>10.288719</td>\n",
       "      <td>35.786140</td>\n",
       "    </tr>\n",
       "    <tr>\n",
       "      <th>7558</th>\n",
       "      <td>8.912789</td>\n",
       "      <td>13.308857</td>\n",
       "      <td>21.676578</td>\n",
       "      <td>17.542519</td>\n",
       "      <td>145.986697</td>\n",
       "      <td>17.273016</td>\n",
       "      <td>16.470168</td>\n",
       "      <td>20.366657</td>\n",
       "      <td>60.820531</td>\n",
       "      <td>30.334298</td>\n",
       "      <td>...</td>\n",
       "      <td>8.179031</td>\n",
       "      <td>22.634187</td>\n",
       "      <td>63.907636</td>\n",
       "      <td>9.232584</td>\n",
       "      <td>59.828791</td>\n",
       "      <td>54.774026</td>\n",
       "      <td>30.558496</td>\n",
       "      <td>26.835939</td>\n",
       "      <td>10.249995</td>\n",
       "      <td>36.177150</td>\n",
       "    </tr>\n",
       "    <tr>\n",
       "      <th>7559</th>\n",
       "      <td>8.979837</td>\n",
       "      <td>13.291318</td>\n",
       "      <td>21.579594</td>\n",
       "      <td>17.497444</td>\n",
       "      <td>146.133984</td>\n",
       "      <td>17.190377</td>\n",
       "      <td>16.454836</td>\n",
       "      <td>20.154920</td>\n",
       "      <td>61.399378</td>\n",
       "      <td>29.901914</td>\n",
       "      <td>...</td>\n",
       "      <td>8.242637</td>\n",
       "      <td>22.657503</td>\n",
       "      <td>64.231679</td>\n",
       "      <td>9.171343</td>\n",
       "      <td>60.026351</td>\n",
       "      <td>53.730775</td>\n",
       "      <td>30.911658</td>\n",
       "      <td>26.752314</td>\n",
       "      <td>10.351776</td>\n",
       "      <td>36.412092</td>\n",
       "    </tr>\n",
       "    <tr>\n",
       "      <th>7560</th>\n",
       "      <td>9.142833</td>\n",
       "      <td>13.192359</td>\n",
       "      <td>21.824050</td>\n",
       "      <td>17.651555</td>\n",
       "      <td>145.617712</td>\n",
       "      <td>17.369726</td>\n",
       "      <td>16.291340</td>\n",
       "      <td>20.093924</td>\n",
       "      <td>61.611583</td>\n",
       "      <td>29.982965</td>\n",
       "      <td>...</td>\n",
       "      <td>8.364570</td>\n",
       "      <td>22.824470</td>\n",
       "      <td>64.502211</td>\n",
       "      <td>9.164180</td>\n",
       "      <td>60.971674</td>\n",
       "      <td>53.957206</td>\n",
       "      <td>30.857709</td>\n",
       "      <td>27.046532</td>\n",
       "      <td>10.261445</td>\n",
       "      <td>36.421680</td>\n",
       "    </tr>\n",
       "  </tbody>\n",
       "</table>\n",
       "<p>7561 rows × 500 columns</p>\n",
       "</div>"
      ],
      "text/plain": [
       "           0          1          2          3           4          5    \\\n",
       "0     1.000000   1.000000   1.000000   1.000000    1.000000   1.000000   \n",
       "1     1.005034   0.993411   1.001318   1.012253    0.998623   1.007462   \n",
       "2     1.012074   1.003545   1.006746   1.022302    1.008313   1.004690   \n",
       "3     1.016104   1.000383   1.004884   1.019607    1.011036   1.002666   \n",
       "4     1.014641   1.013406   1.021722   1.011982    1.000289   1.003063   \n",
       "...        ...        ...        ...        ...         ...        ...   \n",
       "7556  9.091725  13.210022  21.479017  17.737728  143.753773  17.211549   \n",
       "7557  9.063889  13.364424  21.866058  17.701739  144.636296  17.409910   \n",
       "7558  8.912789  13.308857  21.676578  17.542519  145.986697  17.273016   \n",
       "7559  8.979837  13.291318  21.579594  17.497444  146.133984  17.190377   \n",
       "7560  9.142833  13.192359  21.824050  17.651555  145.617712  17.369726   \n",
       "\n",
       "            6          7          8          9    ...       490        491  \\\n",
       "0      1.000000   1.000000   1.000000   1.000000  ...  1.000000   1.000000   \n",
       "1      1.010184   0.997512   1.007750   1.005852  ...  1.001718   1.000447   \n",
       "2      1.005968   1.004971   1.007577   1.001528  ...  1.004313   1.011964   \n",
       "3      0.998850   1.007762   0.991977   0.994799  ...  1.006065   1.019746   \n",
       "4      0.993078   1.004170   0.998504   0.999764  ...  1.024256   1.020371   \n",
       "...         ...        ...        ...        ...  ...       ...        ...   \n",
       "7556  16.405008  20.656927  61.442162  29.309586  ...  8.050142  22.472598   \n",
       "7557  16.490807  20.388985  60.583032  29.690823  ...  8.098122  22.592080   \n",
       "7558  16.470168  20.366657  60.820531  30.334298  ...  8.179031  22.634187   \n",
       "7559  16.454836  20.154920  61.399378  29.901914  ...  8.242637  22.657503   \n",
       "7560  16.291340  20.093924  61.611583  29.982965  ...  8.364570  22.824470   \n",
       "\n",
       "            492       493        494        495        496        497  \\\n",
       "0      1.000000  1.000000   1.000000   1.000000   1.000000   1.000000   \n",
       "1      0.984094  1.015784   0.998490   1.004136   1.011440   1.009700   \n",
       "2      0.987589  1.024173   0.996367   1.010724   0.997049   1.003763   \n",
       "3      0.985018  1.018924   1.007996   1.031970   0.984402   1.001941   \n",
       "4      0.993851  0.999779   1.007948   1.038265   0.979355   1.004792   \n",
       "...         ...       ...        ...        ...        ...        ...   \n",
       "7556  62.375634  9.384033  59.174953  54.107108  30.768237  27.159316   \n",
       "7557  63.056113  9.353486  59.699423  54.668737  30.471683  26.828242   \n",
       "7558  63.907636  9.232584  59.828791  54.774026  30.558496  26.835939   \n",
       "7559  64.231679  9.171343  60.026351  53.730775  30.911658  26.752314   \n",
       "7560  64.502211  9.164180  60.971674  53.957206  30.857709  27.046532   \n",
       "\n",
       "            498        499  \n",
       "0      1.000000   1.000000  \n",
       "1      1.001198   1.003749  \n",
       "2      0.989658   1.003995  \n",
       "3      0.976760   1.001877  \n",
       "4      0.963816   0.997539  \n",
       "...         ...        ...  \n",
       "7556  10.180590  35.654612  \n",
       "7557  10.288719  35.786140  \n",
       "7558  10.249995  36.177150  \n",
       "7559  10.351776  36.412092  \n",
       "7560  10.261445  36.421680  \n",
       "\n",
       "[7561 rows x 500 columns]"
      ]
     },
     "execution_count": 296,
     "metadata": {},
     "output_type": "execute_result"
    }
   ],
   "source": [
    "# Run the Monte Carlo simulation to forecast 30 years cumulative returns\n",
    "MC_sim.calc_cumulative_return()"
   ]
  },
  {
   "cell_type": "code",
   "execution_count": 297,
   "metadata": {},
   "outputs": [
    {
     "data": {
      "image/png": "[encoded data removed]",
      "text/plain": [
       "<Figure size 640x480 with 1 Axes>"
      ]
     },
     "metadata": {},
     "output_type": "display_data"
    }
   ],
   "source": [
    "# Visualize the 30-year Monte Carlo simulation by creating an\n",
    "# overlay line plot\n",
    "MC_sim_line_plot = MC_sim.plot_simulation()"
   ]
  },
  {
   "cell_type": "markdown",
   "metadata": {},
   "source": [
    "#### Step 3: Plot the probability distribution of the Monte Carlo simulation."
   ]
  },
  {
   "cell_type": "code",
   "execution_count": 298,
   "metadata": {},
   "outputs": [
    {
     "data": {
      "image/png": "[encoded data removed]",
      "text/plain": [
       "<Figure size 640x480 with 1 Axes>"
      ]
     },
     "metadata": {},
     "output_type": "display_data"
    }
   ],
   "source": [
    "# Visualize the probability distribution of the 30-year Monte Carlo simulation \n",
    "# by plotting a histogram\n",
    "MC_sim_dis_plot = MC_sim.plot_distribution()"
   ]
  },
  {
   "cell_type": "markdown",
   "metadata": {},
   "source": [
    "#### Step 4: Generate the summary statistics for the Monte Carlo simulation."
   ]
  },
  {
   "cell_type": "code",
   "execution_count": 299,
   "metadata": {},
   "outputs": [
    {
     "data": {
      "text/plain": [
       "count           500.000000\n",
       "mean             32.016525\n",
       "std              26.671087\n",
       "min               2.553954\n",
       "25%              14.441768\n",
       "50%              24.007142\n",
       "75%              39.348106\n",
       "max             163.124371\n",
       "95% CI Lower      5.866266\n",
       "95% CI Upper    109.610699\n",
       "Name: 7560, dtype: float64"
      ]
     },
     "execution_count": 299,
     "metadata": {},
     "output_type": "execute_result"
    }
   ],
   "source": [
    "# Generate summary statistics from the 30-year Monte Carlo simulation results\n",
    "# Save the results as a variable\n",
    "MC_sim_table = MC_sim.summarize_cumulative_return()\n",
    "\n",
    "# Review the 30-year Monte Carlo summary statistics\n",
    "MC_sim_table"
   ]
  },
  {
   "cell_type": "markdown",
   "metadata": {},
   "source": [
    "### Analyze the Retirement Portfolio Forecasts\n",
    "\n",
    "Using the current value of only the stock and bond portion of the member's portfolio and the summary statistics that you generated from the Monte Carlo simulation, answer the following question in your Jupyter notebook:\n",
    "\n",
    "-  What are the lower and upper bounds for the expected value of the portfolio with a 95% confidence interval?\n"
   ]
  },
  {
   "cell_type": "code",
   "execution_count": 300,
   "metadata": {},
   "outputs": [
    {
     "name": "stdout",
     "output_type": "stream",
     "text": [
      "Current balance of the stock and bond portion of the portfolio: $60688.7\n"
     ]
    }
   ],
   "source": [
    "# Print the current balance of the stock and bond portion of the members portfolio\n",
    "print(f\"Current balance of the stock and bond portion of the portfolio: ${total_stocks_bonds}\")\n"
   ]
  },
  {
   "cell_type": "code",
   "execution_count": 301,
   "metadata": {},
   "outputs": [
    {
     "name": "stdout",
     "output_type": "stream",
     "text": [
      "There is a 95% chance that with a 60, 40 for SPY and AGG weight portfolio over the next 30 years will end within in the range of $356016 and $6652131.\n"
     ]
    }
   ],
   "source": [
    "# Use the lower and upper `95%` confidence intervals to calculate the range of the possible outcomes for the current stock/bond portfolio\n",
    "ci_lower_thirty_cumulative_return = round(MC_sim_table[8] * total_stocks_bonds)\n",
    "ci_upper_thirty_cumulative_return = round(MC_sim_table[9] * total_stocks_bonds)\n",
    "\n",
    "\n",
    "# Print the result of your calculations\n",
    "print(f\"There is a 95% chance that with a 60, 40 for SPY and AGG weight portfolio over the next 30 years will end within in the range of\"\n",
    "      f\" ${ci_lower_thirty_cumulative_return} and ${ci_upper_thirty_cumulative_return}.\")"
   ]
  },
  {
   "cell_type": "markdown",
   "metadata": {},
   "source": [
    "### Forecast Cumulative Returns in 10 Years\n",
    "\n",
    "The CTO of the credit union is impressed with your work on these planning tools but wonders if 30 years is a long time to wait until retirement. So, your next task is to adjust the retirement portfolio and run a new Monte Carlo simulation to find out if the changes will allow members to retire earlier.\n",
    "\n",
    "For this new Monte Carlo simulation, do the following: \n",
    "\n",
    "- Forecast the cumulative returns for 10 years from now. Because of the shortened investment horizon (30 years to 10 years), the portfolio needs to invest more heavily in the riskier asset&mdash;that is, stock&mdash;to help accumulate wealth for retirement. \n",
    "\n",
    "- Adjust the weights of the retirement portfolio so that the composition for the Monte Carlo simulation consists of 20% bonds and 80% stocks. \n",
    "\n",
    "- Run the simulation over 500 samples, and use the same data that the API call to Alpaca generated.\n",
    "\n",
    "- Based on the new Monte Carlo simulation, answer the following questions in your Jupyter notebook:\n",
    "\n",
    "    - Using the current value of only the stock and bond portion of the member's portfolio and the summary statistics that you generated from the new Monte Carlo simulation, what are the lower and upper bounds for the expected value of the portfolio (with the new weights) with a 95% confidence interval?\n",
    "\n",
    "    - Will weighting the portfolio more heavily toward stocks allow the credit union members to retire after only 10 years?\n"
   ]
  },
  {
   "cell_type": "code",
   "execution_count": 302,
   "metadata": {},
   "outputs": [
    {
     "data": {
      "text/html": [
       "<div>\n",
       "<style scoped>\n",
       "    .dataframe tbody tr th:only-of-type {\n",
       "        vertical-align: middle;\n",
       "    }\n",
       "\n",
       "    .dataframe tbody tr th {\n",
       "        vertical-align: top;\n",
       "    }\n",
       "\n",
       "    .dataframe thead tr th {\n",
       "        text-align: left;\n",
       "    }\n",
       "\n",
       "    .dataframe thead tr:last-of-type th {\n",
       "        text-align: right;\n",
       "    }\n",
       "</style>\n",
       "<table border=\"1\" class=\"dataframe\">\n",
       "  <thead>\n",
       "    <tr>\n",
       "      <th></th>\n",
       "      <th colspan=\"8\" halign=\"left\">SPY</th>\n",
       "      <th colspan=\"8\" halign=\"left\">AGG</th>\n",
       "    </tr>\n",
       "    <tr>\n",
       "      <th></th>\n",
       "      <th>open</th>\n",
       "      <th>high</th>\n",
       "      <th>low</th>\n",
       "      <th>close</th>\n",
       "      <th>volume</th>\n",
       "      <th>trade_count</th>\n",
       "      <th>vwap</th>\n",
       "      <th>daily_return</th>\n",
       "      <th>open</th>\n",
       "      <th>high</th>\n",
       "      <th>low</th>\n",
       "      <th>close</th>\n",
       "      <th>volume</th>\n",
       "      <th>trade_count</th>\n",
       "      <th>vwap</th>\n",
       "      <th>daily_return</th>\n",
       "    </tr>\n",
       "    <tr>\n",
       "      <th>timestamp</th>\n",
       "      <th></th>\n",
       "      <th></th>\n",
       "      <th></th>\n",
       "      <th></th>\n",
       "      <th></th>\n",
       "      <th></th>\n",
       "      <th></th>\n",
       "      <th></th>\n",
       "      <th></th>\n",
       "      <th></th>\n",
       "      <th></th>\n",
       "      <th></th>\n",
       "      <th></th>\n",
       "      <th></th>\n",
       "      <th></th>\n",
       "      <th></th>\n",
       "    </tr>\n",
       "  </thead>\n",
       "  <tbody>\n",
       "    <tr>\n",
       "      <th>2018-08-07 04:00:00+00:00</th>\n",
       "      <td>285.39</td>\n",
       "      <td>286.010</td>\n",
       "      <td>285.240</td>\n",
       "      <td>285.58</td>\n",
       "      <td>43427090</td>\n",
       "      <td>181015</td>\n",
       "      <td>285.635439</td>\n",
       "      <td>NaN</td>\n",
       "      <td>105.97</td>\n",
       "      <td>105.97</td>\n",
       "      <td>105.8250</td>\n",
       "      <td>105.85</td>\n",
       "      <td>2532774</td>\n",
       "      <td>9522</td>\n",
       "      <td>105.876672</td>\n",
       "      <td>NaN</td>\n",
       "    </tr>\n",
       "    <tr>\n",
       "      <th>2018-08-08 04:00:00+00:00</th>\n",
       "      <td>285.39</td>\n",
       "      <td>285.910</td>\n",
       "      <td>284.940</td>\n",
       "      <td>285.44</td>\n",
       "      <td>42273966</td>\n",
       "      <td>154349</td>\n",
       "      <td>285.479104</td>\n",
       "      <td>-0.000490</td>\n",
       "      <td>105.83</td>\n",
       "      <td>105.91</td>\n",
       "      <td>105.8000</td>\n",
       "      <td>105.85</td>\n",
       "      <td>1937527</td>\n",
       "      <td>9394</td>\n",
       "      <td>105.848006</td>\n",
       "      <td>0.000000</td>\n",
       "    </tr>\n",
       "    <tr>\n",
       "      <th>2018-08-09 04:00:00+00:00</th>\n",
       "      <td>285.53</td>\n",
       "      <td>285.970</td>\n",
       "      <td>284.915</td>\n",
       "      <td>285.09</td>\n",
       "      <td>37130583</td>\n",
       "      <td>140980</td>\n",
       "      <td>285.455348</td>\n",
       "      <td>-0.001226</td>\n",
       "      <td>105.97</td>\n",
       "      <td>106.04</td>\n",
       "      <td>105.9329</td>\n",
       "      <td>106.00</td>\n",
       "      <td>2386756</td>\n",
       "      <td>10063</td>\n",
       "      <td>105.993103</td>\n",
       "      <td>0.001417</td>\n",
       "    </tr>\n",
       "    <tr>\n",
       "      <th>2018-08-10 04:00:00+00:00</th>\n",
       "      <td>283.45</td>\n",
       "      <td>284.055</td>\n",
       "      <td>282.360</td>\n",
       "      <td>283.16</td>\n",
       "      <td>77399449</td>\n",
       "      <td>292690</td>\n",
       "      <td>283.350560</td>\n",
       "      <td>-0.006770</td>\n",
       "      <td>106.11</td>\n",
       "      <td>106.36</td>\n",
       "      <td>106.1100</td>\n",
       "      <td>106.23</td>\n",
       "      <td>4136487</td>\n",
       "      <td>12317</td>\n",
       "      <td>106.238745</td>\n",
       "      <td>0.002170</td>\n",
       "    </tr>\n",
       "    <tr>\n",
       "      <th>2018-08-13 04:00:00+00:00</th>\n",
       "      <td>283.47</td>\n",
       "      <td>284.160</td>\n",
       "      <td>281.770</td>\n",
       "      <td>282.08</td>\n",
       "      <td>65970064</td>\n",
       "      <td>270772</td>\n",
       "      <td>282.691061</td>\n",
       "      <td>-0.003814</td>\n",
       "      <td>106.16</td>\n",
       "      <td>106.30</td>\n",
       "      <td>106.1501</td>\n",
       "      <td>106.29</td>\n",
       "      <td>2786308</td>\n",
       "      <td>13888</td>\n",
       "      <td>106.241962</td>\n",
       "      <td>0.000565</td>\n",
       "    </tr>\n",
       "  </tbody>\n",
       "</table>\n",
       "</div>"
      ],
      "text/plain": [
       "                              SPY                                      \\\n",
       "                             open     high      low   close    volume   \n",
       "timestamp                                                               \n",
       "2018-08-07 04:00:00+00:00  285.39  286.010  285.240  285.58  43427090   \n",
       "2018-08-08 04:00:00+00:00  285.39  285.910  284.940  285.44  42273966   \n",
       "2018-08-09 04:00:00+00:00  285.53  285.970  284.915  285.09  37130583   \n",
       "2018-08-10 04:00:00+00:00  283.45  284.055  282.360  283.16  77399449   \n",
       "2018-08-13 04:00:00+00:00  283.47  284.160  281.770  282.08  65970064   \n",
       "\n",
       "                                                                   AGG  \\\n",
       "                          trade_count        vwap daily_return    open   \n",
       "timestamp                                                                \n",
       "2018-08-07 04:00:00+00:00      181015  285.635439          NaN  105.97   \n",
       "2018-08-08 04:00:00+00:00      154349  285.479104    -0.000490  105.83   \n",
       "2018-08-09 04:00:00+00:00      140980  285.455348    -0.001226  105.97   \n",
       "2018-08-10 04:00:00+00:00      292690  283.350560    -0.006770  106.11   \n",
       "2018-08-13 04:00:00+00:00      270772  282.691061    -0.003814  106.16   \n",
       "\n",
       "                                                                          \\\n",
       "                             high       low   close   volume trade_count   \n",
       "timestamp                                                                  \n",
       "2018-08-07 04:00:00+00:00  105.97  105.8250  105.85  2532774        9522   \n",
       "2018-08-08 04:00:00+00:00  105.91  105.8000  105.85  1937527        9394   \n",
       "2018-08-09 04:00:00+00:00  106.04  105.9329  106.00  2386756       10063   \n",
       "2018-08-10 04:00:00+00:00  106.36  106.1100  106.23  4136487       12317   \n",
       "2018-08-13 04:00:00+00:00  106.30  106.1501  106.29  2786308       13888   \n",
       "\n",
       "                                                    \n",
       "                                 vwap daily_return  \n",
       "timestamp                                           \n",
       "2018-08-07 04:00:00+00:00  105.876672          NaN  \n",
       "2018-08-08 04:00:00+00:00  105.848006     0.000000  \n",
       "2018-08-09 04:00:00+00:00  105.993103     0.001417  \n",
       "2018-08-10 04:00:00+00:00  106.238745     0.002170  \n",
       "2018-08-13 04:00:00+00:00  106.241962     0.000565  "
      ]
     },
     "execution_count": 302,
     "metadata": {},
     "output_type": "execute_result"
    }
   ],
   "source": [
    "# Configure a Monte Carlo simulation to forecast 10 years cumulative returns\n",
    "# The weights should be split 20% to AGG and 80% to SPY.\n",
    "# Run 500 samples.\n",
    "ten_year_sim = MCSimulation(\n",
    "    portfolio_data = historical_prices,\n",
    "    weights = [.80, .20],\n",
    "    num_simulation = 500,\n",
    "    num_trading_days = 252*10\n",
    ")\n",
    "# Review the simulation input data\n",
    "ten_year_sim.portfolio_data.head()"
   ]
  },
  {
   "cell_type": "code",
   "execution_count": 303,
   "metadata": {},
   "outputs": [
    {
     "name": "stdout",
     "output_type": "stream",
     "text": [
      "Running Monte Carlo simulation number 0.\n",
      "Running Monte Carlo simulation number 10.\n",
      "Running Monte Carlo simulation number 20.\n",
      "Running Monte Carlo simulation number 30.\n",
      "Running Monte Carlo simulation number 40.\n",
      "Running Monte Carlo simulation number 50.\n",
      "Running Monte Carlo simulation number 60.\n",
      "Running Monte Carlo simulation number 70.\n",
      "Running Monte Carlo simulation number 80.\n",
      "Running Monte Carlo simulation number 90.\n",
      "Running Monte Carlo simulation number 100.\n",
      "Running Monte Carlo simulation number 110.\n",
      "Running Monte Carlo simulation number 120.\n",
      "Running Monte Carlo simulation number 130.\n",
      "Running Monte Carlo simulation number 140.\n",
      "Running Monte Carlo simulation number 150.\n",
      "Running Monte Carlo simulation number 160.\n",
      "Running Monte Carlo simulation number 170.\n",
      "Running Monte Carlo simulation number 180.\n",
      "Running Monte Carlo simulation number 190.\n",
      "Running Monte Carlo simulation number 200.\n",
      "Running Monte Carlo simulation number 210.\n",
      "Running Monte Carlo simulation number 220.\n",
      "Running Monte Carlo simulation number 230.\n",
      "Running Monte Carlo simulation number 240.\n",
      "Running Monte Carlo simulation number 250.\n",
      "Running Monte Carlo simulation number 260.\n",
      "Running Monte Carlo simulation number 270.\n",
      "Running Monte Carlo simulation number 280.\n",
      "Running Monte Carlo simulation number 290.\n",
      "Running Monte Carlo simulation number 300.\n",
      "Running Monte Carlo simulation number 310.\n",
      "Running Monte Carlo simulation number 320.\n",
      "Running Monte Carlo simulation number 330.\n",
      "Running Monte Carlo simulation number 340.\n",
      "Running Monte Carlo simulation number 350.\n",
      "Running Monte Carlo simulation number 360.\n",
      "Running Monte Carlo simulation number 370.\n",
      "Running Monte Carlo simulation number 380.\n",
      "Running Monte Carlo simulation number 390.\n",
      "Running Monte Carlo simulation number 400.\n",
      "Running Monte Carlo simulation number 410.\n",
      "Running Monte Carlo simulation number 420.\n",
      "Running Monte Carlo simulation number 430.\n",
      "Running Monte Carlo simulation number 440.\n",
      "Running Monte Carlo simulation number 450.\n",
      "Running Monte Carlo simulation number 460.\n",
      "Running Monte Carlo simulation number 470.\n",
      "Running Monte Carlo simulation number 480.\n",
      "Running Monte Carlo simulation number 490.\n"
     ]
    },
    {
     "data": {
      "text/html": [
       "<div>\n",
       "<style scoped>\n",
       "    .dataframe tbody tr th:only-of-type {\n",
       "        vertical-align: middle;\n",
       "    }\n",
       "\n",
       "    .dataframe tbody tr th {\n",
       "        vertical-align: top;\n",
       "    }\n",
       "\n",
       "    .dataframe thead th {\n",
       "        text-align: right;\n",
       "    }\n",
       "</style>\n",
       "<table border=\"1\" class=\"dataframe\">\n",
       "  <thead>\n",
       "    <tr style=\"text-align: right;\">\n",
       "      <th></th>\n",
       "      <th>0</th>\n",
       "      <th>1</th>\n",
       "      <th>2</th>\n",
       "      <th>3</th>\n",
       "      <th>4</th>\n",
       "      <th>5</th>\n",
       "      <th>6</th>\n",
       "      <th>7</th>\n",
       "      <th>8</th>\n",
       "      <th>9</th>\n",
       "      <th>...</th>\n",
       "      <th>490</th>\n",
       "      <th>491</th>\n",
       "      <th>492</th>\n",
       "      <th>493</th>\n",
       "      <th>494</th>\n",
       "      <th>495</th>\n",
       "      <th>496</th>\n",
       "      <th>497</th>\n",
       "      <th>498</th>\n",
       "      <th>499</th>\n",
       "    </tr>\n",
       "  </thead>\n",
       "  <tbody>\n",
       "    <tr>\n",
       "      <th>0</th>\n",
       "      <td>1.000000</td>\n",
       "      <td>1.000000</td>\n",
       "      <td>1.000000</td>\n",
       "      <td>1.000000</td>\n",
       "      <td>1.000000</td>\n",
       "      <td>1.000000</td>\n",
       "      <td>1.000000</td>\n",
       "      <td>1.000000</td>\n",
       "      <td>1.000000</td>\n",
       "      <td>1.000000</td>\n",
       "      <td>...</td>\n",
       "      <td>1.000000</td>\n",
       "      <td>1.000000</td>\n",
       "      <td>1.000000</td>\n",
       "      <td>1.000000</td>\n",
       "      <td>1.000000</td>\n",
       "      <td>1.000000</td>\n",
       "      <td>1.000000</td>\n",
       "      <td>1.000000</td>\n",
       "      <td>1.000000</td>\n",
       "      <td>1.000000</td>\n",
       "    </tr>\n",
       "    <tr>\n",
       "      <th>1</th>\n",
       "      <td>0.989859</td>\n",
       "      <td>0.989024</td>\n",
       "      <td>0.981606</td>\n",
       "      <td>0.982898</td>\n",
       "      <td>0.988531</td>\n",
       "      <td>0.982736</td>\n",
       "      <td>1.010405</td>\n",
       "      <td>1.042453</td>\n",
       "      <td>0.996609</td>\n",
       "      <td>1.010641</td>\n",
       "      <td>...</td>\n",
       "      <td>0.989920</td>\n",
       "      <td>1.004713</td>\n",
       "      <td>0.997049</td>\n",
       "      <td>0.990125</td>\n",
       "      <td>1.007323</td>\n",
       "      <td>1.000677</td>\n",
       "      <td>0.999140</td>\n",
       "      <td>1.020377</td>\n",
       "      <td>1.011157</td>\n",
       "      <td>1.006229</td>\n",
       "    </tr>\n",
       "    <tr>\n",
       "      <th>2</th>\n",
       "      <td>1.009543</td>\n",
       "      <td>0.991946</td>\n",
       "      <td>0.980895</td>\n",
       "      <td>0.996824</td>\n",
       "      <td>0.990035</td>\n",
       "      <td>0.983946</td>\n",
       "      <td>1.010618</td>\n",
       "      <td>1.031244</td>\n",
       "      <td>1.008269</td>\n",
       "      <td>1.000593</td>\n",
       "      <td>...</td>\n",
       "      <td>0.986889</td>\n",
       "      <td>0.996149</td>\n",
       "      <td>0.993205</td>\n",
       "      <td>0.992372</td>\n",
       "      <td>1.014994</td>\n",
       "      <td>0.991215</td>\n",
       "      <td>0.997795</td>\n",
       "      <td>1.021568</td>\n",
       "      <td>1.001462</td>\n",
       "      <td>1.021628</td>\n",
       "    </tr>\n",
       "    <tr>\n",
       "      <th>3</th>\n",
       "      <td>1.001816</td>\n",
       "      <td>1.015993</td>\n",
       "      <td>0.972702</td>\n",
       "      <td>1.004544</td>\n",
       "      <td>0.997846</td>\n",
       "      <td>0.988307</td>\n",
       "      <td>0.992008</td>\n",
       "      <td>1.022008</td>\n",
       "      <td>1.020167</td>\n",
       "      <td>1.005897</td>\n",
       "      <td>...</td>\n",
       "      <td>0.982413</td>\n",
       "      <td>0.990989</td>\n",
       "      <td>0.993438</td>\n",
       "      <td>0.989995</td>\n",
       "      <td>1.017120</td>\n",
       "      <td>0.989695</td>\n",
       "      <td>0.992844</td>\n",
       "      <td>1.031792</td>\n",
       "      <td>1.010978</td>\n",
       "      <td>1.025347</td>\n",
       "    </tr>\n",
       "    <tr>\n",
       "      <th>4</th>\n",
       "      <td>1.001792</td>\n",
       "      <td>1.021631</td>\n",
       "      <td>0.967332</td>\n",
       "      <td>1.013031</td>\n",
       "      <td>1.002348</td>\n",
       "      <td>0.989262</td>\n",
       "      <td>0.997099</td>\n",
       "      <td>1.029142</td>\n",
       "      <td>1.020375</td>\n",
       "      <td>1.009845</td>\n",
       "      <td>...</td>\n",
       "      <td>0.996072</td>\n",
       "      <td>1.004159</td>\n",
       "      <td>1.006018</td>\n",
       "      <td>0.994077</td>\n",
       "      <td>1.014504</td>\n",
       "      <td>0.983504</td>\n",
       "      <td>0.998749</td>\n",
       "      <td>1.026870</td>\n",
       "      <td>1.013709</td>\n",
       "      <td>1.026702</td>\n",
       "    </tr>\n",
       "    <tr>\n",
       "      <th>...</th>\n",
       "      <td>...</td>\n",
       "      <td>...</td>\n",
       "      <td>...</td>\n",
       "      <td>...</td>\n",
       "      <td>...</td>\n",
       "      <td>...</td>\n",
       "      <td>...</td>\n",
       "      <td>...</td>\n",
       "      <td>...</td>\n",
       "      <td>...</td>\n",
       "      <td>...</td>\n",
       "      <td>...</td>\n",
       "      <td>...</td>\n",
       "      <td>...</td>\n",
       "      <td>...</td>\n",
       "      <td>...</td>\n",
       "      <td>...</td>\n",
       "      <td>...</td>\n",
       "      <td>...</td>\n",
       "      <td>...</td>\n",
       "      <td>...</td>\n",
       "    </tr>\n",
       "    <tr>\n",
       "      <th>2516</th>\n",
       "      <td>2.613187</td>\n",
       "      <td>1.864105</td>\n",
       "      <td>3.703010</td>\n",
       "      <td>2.782357</td>\n",
       "      <td>2.269941</td>\n",
       "      <td>2.600533</td>\n",
       "      <td>1.616091</td>\n",
       "      <td>5.647564</td>\n",
       "      <td>2.520789</td>\n",
       "      <td>1.650921</td>\n",
       "      <td>...</td>\n",
       "      <td>3.784954</td>\n",
       "      <td>4.061753</td>\n",
       "      <td>5.065845</td>\n",
       "      <td>6.176251</td>\n",
       "      <td>1.730610</td>\n",
       "      <td>7.501733</td>\n",
       "      <td>1.690806</td>\n",
       "      <td>5.314977</td>\n",
       "      <td>1.224290</td>\n",
       "      <td>5.910927</td>\n",
       "    </tr>\n",
       "    <tr>\n",
       "      <th>2517</th>\n",
       "      <td>2.600172</td>\n",
       "      <td>1.907238</td>\n",
       "      <td>3.723354</td>\n",
       "      <td>2.755003</td>\n",
       "      <td>2.266075</td>\n",
       "      <td>2.598518</td>\n",
       "      <td>1.616713</td>\n",
       "      <td>5.618335</td>\n",
       "      <td>2.516473</td>\n",
       "      <td>1.652520</td>\n",
       "      <td>...</td>\n",
       "      <td>3.832731</td>\n",
       "      <td>4.042188</td>\n",
       "      <td>4.952275</td>\n",
       "      <td>6.215127</td>\n",
       "      <td>1.731055</td>\n",
       "      <td>7.551533</td>\n",
       "      <td>1.691251</td>\n",
       "      <td>5.322260</td>\n",
       "      <td>1.213823</td>\n",
       "      <td>6.017712</td>\n",
       "    </tr>\n",
       "    <tr>\n",
       "      <th>2518</th>\n",
       "      <td>2.599920</td>\n",
       "      <td>1.901387</td>\n",
       "      <td>3.674383</td>\n",
       "      <td>2.812177</td>\n",
       "      <td>2.237610</td>\n",
       "      <td>2.618638</td>\n",
       "      <td>1.630237</td>\n",
       "      <td>5.583450</td>\n",
       "      <td>2.511863</td>\n",
       "      <td>1.633411</td>\n",
       "      <td>...</td>\n",
       "      <td>3.776906</td>\n",
       "      <td>4.010362</td>\n",
       "      <td>4.978132</td>\n",
       "      <td>6.138754</td>\n",
       "      <td>1.728429</td>\n",
       "      <td>7.513112</td>\n",
       "      <td>1.665087</td>\n",
       "      <td>5.311909</td>\n",
       "      <td>1.236570</td>\n",
       "      <td>6.032999</td>\n",
       "    </tr>\n",
       "    <tr>\n",
       "      <th>2519</th>\n",
       "      <td>2.592225</td>\n",
       "      <td>1.892676</td>\n",
       "      <td>3.708368</td>\n",
       "      <td>2.836341</td>\n",
       "      <td>2.216969</td>\n",
       "      <td>2.610570</td>\n",
       "      <td>1.612787</td>\n",
       "      <td>5.727055</td>\n",
       "      <td>2.482805</td>\n",
       "      <td>1.627243</td>\n",
       "      <td>...</td>\n",
       "      <td>3.756058</td>\n",
       "      <td>4.014179</td>\n",
       "      <td>4.904447</td>\n",
       "      <td>6.158332</td>\n",
       "      <td>1.709835</td>\n",
       "      <td>7.542976</td>\n",
       "      <td>1.649238</td>\n",
       "      <td>5.299156</td>\n",
       "      <td>1.251504</td>\n",
       "      <td>6.019288</td>\n",
       "    </tr>\n",
       "    <tr>\n",
       "      <th>2520</th>\n",
       "      <td>2.549182</td>\n",
       "      <td>1.917820</td>\n",
       "      <td>3.678983</td>\n",
       "      <td>2.841505</td>\n",
       "      <td>2.198712</td>\n",
       "      <td>2.615257</td>\n",
       "      <td>1.584922</td>\n",
       "      <td>5.743153</td>\n",
       "      <td>2.501105</td>\n",
       "      <td>1.655665</td>\n",
       "      <td>...</td>\n",
       "      <td>3.702108</td>\n",
       "      <td>3.978051</td>\n",
       "      <td>4.943397</td>\n",
       "      <td>6.106372</td>\n",
       "      <td>1.693760</td>\n",
       "      <td>7.612119</td>\n",
       "      <td>1.665299</td>\n",
       "      <td>5.199545</td>\n",
       "      <td>1.263401</td>\n",
       "      <td>5.989960</td>\n",
       "    </tr>\n",
       "  </tbody>\n",
       "</table>\n",
       "<p>2521 rows × 500 columns</p>\n",
       "</div>"
      ],
      "text/plain": [
       "           0         1         2         3         4         5         6    \\\n",
       "0     1.000000  1.000000  1.000000  1.000000  1.000000  1.000000  1.000000   \n",
       "1     0.989859  0.989024  0.981606  0.982898  0.988531  0.982736  1.010405   \n",
       "2     1.009543  0.991946  0.980895  0.996824  0.990035  0.983946  1.010618   \n",
       "3     1.001816  1.015993  0.972702  1.004544  0.997846  0.988307  0.992008   \n",
       "4     1.001792  1.021631  0.967332  1.013031  1.002348  0.989262  0.997099   \n",
       "...        ...       ...       ...       ...       ...       ...       ...   \n",
       "2516  2.613187  1.864105  3.703010  2.782357  2.269941  2.600533  1.616091   \n",
       "2517  2.600172  1.907238  3.723354  2.755003  2.266075  2.598518  1.616713   \n",
       "2518  2.599920  1.901387  3.674383  2.812177  2.237610  2.618638  1.630237   \n",
       "2519  2.592225  1.892676  3.708368  2.836341  2.216969  2.610570  1.612787   \n",
       "2520  2.549182  1.917820  3.678983  2.841505  2.198712  2.615257  1.584922   \n",
       "\n",
       "           7         8         9    ...       490       491       492  \\\n",
       "0     1.000000  1.000000  1.000000  ...  1.000000  1.000000  1.000000   \n",
       "1     1.042453  0.996609  1.010641  ...  0.989920  1.004713  0.997049   \n",
       "2     1.031244  1.008269  1.000593  ...  0.986889  0.996149  0.993205   \n",
       "3     1.022008  1.020167  1.005897  ...  0.982413  0.990989  0.993438   \n",
       "4     1.029142  1.020375  1.009845  ...  0.996072  1.004159  1.006018   \n",
       "...        ...       ...       ...  ...       ...       ...       ...   \n",
       "2516  5.647564  2.520789  1.650921  ...  3.784954  4.061753  5.065845   \n",
       "2517  5.618335  2.516473  1.652520  ...  3.832731  4.042188  4.952275   \n",
       "2518  5.583450  2.511863  1.633411  ...  3.776906  4.010362  4.978132   \n",
       "2519  5.727055  2.482805  1.627243  ...  3.756058  4.014179  4.904447   \n",
       "2520  5.743153  2.501105  1.655665  ...  3.702108  3.978051  4.943397   \n",
       "\n",
       "           493       494       495       496       497       498       499  \n",
       "0     1.000000  1.000000  1.000000  1.000000  1.000000  1.000000  1.000000  \n",
       "1     0.990125  1.007323  1.000677  0.999140  1.020377  1.011157  1.006229  \n",
       "2     0.992372  1.014994  0.991215  0.997795  1.021568  1.001462  1.021628  \n",
       "3     0.989995  1.017120  0.989695  0.992844  1.031792  1.010978  1.025347  \n",
       "4     0.994077  1.014504  0.983504  0.998749  1.026870  1.013709  1.026702  \n",
       "...        ...       ...       ...       ...       ...       ...       ...  \n",
       "2516  6.176251  1.730610  7.501733  1.690806  5.314977  1.224290  5.910927  \n",
       "2517  6.215127  1.731055  7.551533  1.691251  5.322260  1.213823  6.017712  \n",
       "2518  6.138754  1.728429  7.513112  1.665087  5.311909  1.236570  6.032999  \n",
       "2519  6.158332  1.709835  7.542976  1.649238  5.299156  1.251504  6.019288  \n",
       "2520  6.106372  1.693760  7.612119  1.665299  5.199545  1.263401  5.989960  \n",
       "\n",
       "[2521 rows x 500 columns]"
      ]
     },
     "execution_count": 303,
     "metadata": {},
     "output_type": "execute_result"
    }
   ],
   "source": [
    "# Run the Monte Carlo simulation to forecast 10 years cumulative returns\n",
    "ten_year_sim.calc_cumulative_return()"
   ]
  },
  {
   "cell_type": "code",
   "execution_count": 207,
   "metadata": {},
   "outputs": [
    {
     "data": {
      "text/plain": [
       "<Axes: title={'center': '500 Simulations of Cumulative Portfolio Return Trajectories Over the Next 2520 Trading Days.'}>"
      ]
     },
     "execution_count": 207,
     "metadata": {},
     "output_type": "execute_result"
    },
    {
     "data": {
      "image/png": "[encoded data removed]",
      "text/plain": [
       "<Figure size 640x480 with 1 Axes>"
      ]
     },
     "metadata": {},
     "output_type": "display_data"
    }
   ],
   "source": [
    "# Visualize the 10-year Monte Carlo simulation by creating an\n",
    "# overlay line plot\n",
    "ten_year_sim.plot_simulation()"
   ]
  },
  {
   "cell_type": "code",
   "execution_count": 208,
   "metadata": {},
   "outputs": [
    {
     "data": {
      "text/plain": [
       "<Axes: title={'center': 'Distribution of Final Cumuluative Returns Across All 500 Simulations'}, ylabel='Frequency'>"
      ]
     },
     "execution_count": 208,
     "metadata": {},
     "output_type": "execute_result"
    },
    {
     "data": {
      "image/png": "[encoded data removed]",
      "text/plain": [
       "<Figure size 640x480 with 1 Axes>"
      ]
     },
     "metadata": {},
     "output_type": "display_data"
    }
   ],
   "source": [
    "# Visualize the probability distribution of the 10-year Monte Carlo simulation \n",
    "# by plotting a histogram\n",
    "ten_year_sim.plot_distribution()"
   ]
  },
  {
   "cell_type": "code",
   "execution_count": 209,
   "metadata": {},
   "outputs": [
    {
     "name": "stderr",
     "output_type": "stream",
     "text": [
      "/Users/rosalinda/git/financial_planning_tools/MCForecastTools.py:172: FutureWarning: The series.append method is deprecated and will be removed from pandas in a future version. Use pandas.concat instead.\n",
      "  return metrics.append(ci_series)\n"
     ]
    },
    {
     "data": {
      "text/plain": [
       "count           500.000000\n",
       "mean              4.031863\n",
       "std               1.997204\n",
       "min               0.740693\n",
       "25%               2.609201\n",
       "50%               3.684152\n",
       "75%               5.004898\n",
       "max              11.760031\n",
       "95% CI Lower      1.180012\n",
       "95% CI Upper      8.747694\n",
       "Name: 2520, dtype: float64"
      ]
     },
     "execution_count": 209,
     "metadata": {},
     "output_type": "execute_result"
    }
   ],
   "source": [
    "# Generate summary statistics from the 10-year Monte Carlo simulation results\n",
    "# Save the results as a variable\n",
    "ten_year_sim = ten_year_sim.summarize_cumulative_return()\n",
    "\n",
    "# Review the 10-year Monte Carlo summary statistics\n",
    "ten_year_sim"
   ]
  },
  {
   "cell_type": "markdown",
   "metadata": {},
   "source": [
    "### Answer the following questions:"
   ]
  },
  {
   "cell_type": "markdown",
   "metadata": {},
   "source": [
    "#### Question: Using the current value of only the stock and bond portion of the member's portfolio and the summary statistics that you generated from the new Monte Carlo simulation, what are the lower and upper bounds for the expected value of the portfolio (with the new weights) with a 95% confidence interval?"
   ]
  },
  {
   "cell_type": "code",
   "execution_count": 219,
   "metadata": {},
   "outputs": [
    {
     "name": "stdout",
     "output_type": "stream",
     "text": [
      "Current balance of the stock and bond portion of the portfolio: $60688.7\n"
     ]
    }
   ],
   "source": [
    "# Print the current balance of the stock and bond portion of the members portfolio\n",
    "print(f\"Current balance of the stock and bond portion of the portfolio: ${total_stocks_bonds}\")\n"
   ]
  },
  {
   "cell_type": "code",
   "execution_count": 224,
   "metadata": {},
   "outputs": [
    {
     "name": "stdout",
     "output_type": "stream",
     "text": [
      "There is a 95% chance that with a 80, 20 for SPY and AGG weight portfolio over the next 30 years will end within in the range of $71613.41 and $530886.16.\n"
     ]
    }
   ],
   "source": [
    "# Use the lower and upper `95%` confidence intervals to calculate the range of the possible outcomes for the current stock/bond portfolio\n",
    "ci_lower_ten_cumulative_return = round(ten_year_sim[8] * total_stocks_bonds, 2)\n",
    "ci_upper_ten_cumulative_return = round(ten_year_sim[9] * total_stocks_bonds, 2)\n",
    "\n",
    "# Print the result of your calculations\n",
    "print(f\"There is a 95% chance that with a 80, 20 for SPY and AGG weight portfolio over the next 30 years will end within in the range of\"\n",
    "      f\" ${ci_lower_ten_cumulative_return} and ${ci_upper_ten_cumulative_return}.\")"
   ]
  },
  {
   "cell_type": "markdown",
   "metadata": {},
   "source": [
    "#### Question: Will weighting the portfolio more heavily to stocks allow the credit union members to retire after only 10 years?"
   ]
  },
  {
   "cell_type": "raw",
   "metadata": {},
   "source": [
    "**Answer** With the weight of the portfolio invested more heavily in stocks than bonds the credit union member would be able to retire after only ten years. "
   ]
  },
  {
   "cell_type": "code",
   "execution_count": null,
   "metadata": {},
   "outputs": [],
   "source": []
  },
  {
   "cell_type": "code",
   "execution_count": null,
   "metadata": {},
   "outputs": [],
   "source": []
  }
 ],
 "metadata": {
  "kernelspec": {
   "display_name": "Python 3 (ipykernel)",
   "language": "python",
   "name": "python3"
  },
  "language_info": {
   "codemirror_mode": {
    "name": "ipython",
    "version": 3
   },
   "file_extension": ".py",
   "mimetype": "text/x-python",
   "name": "python",
   "nbconvert_exporter": "python",
   "pygments_lexer": "ipython3",
   "version": "3.9.16"
  }
 },
 "nbformat": 4,
 "nbformat_minor": 4
}
